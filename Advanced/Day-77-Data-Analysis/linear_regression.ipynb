{
 "nbformat": 4,
 "nbformat_minor": 0,
 "metadata": {
  "colab": {
   "name": "Seaborn and Linear Regression (complete).ipynb",
   "provenance": [],
   "toc_visible": true
  },
  "kernelspec": {
   "name": "python3",
   "display_name": "Python 3"
  }
 },
 "cells": [
  {
   "cell_type": "markdown",
   "metadata": {
    "id": "gltiGJhvrzaL"
   },
   "source": [
    "# Introduction\n",
    "\n",
    "Do higher film budgets lead to more box office revenue? Let's find out if there's a relationship using the movie budgets and financial performance data that I've scraped from [the-numbers.com](https://www.the-numbers.com/movie/budgets) on **May 1st, 2018**. \n",
    "\n",
    "<img src=https://i.imgur.com/kq7hrEh.png>"
   ]
  },
  {
   "cell_type": "markdown",
   "metadata": {
    "id": "zkLrvlKvtdih"
   },
   "source": [
    "# Import Statements"
   ]
  },
  {
   "cell_type": "code",
   "metadata": {
    "id": "NpDk_q_Urroj"
   },
   "source": [
    "import pandas as pd\n",
    "import matplotlib.pyplot as plt\n",
    "\n",
    "import seaborn as sns\n",
    "from sklearn.linear_model import LinearRegression"
   ],
   "execution_count": 28,
   "outputs": []
  },
  {
   "cell_type": "markdown",
   "metadata": {
    "id": "x5B-UDvXtnC6"
   },
   "source": [
    "# Notebook Presentation"
   ]
  },
  {
   "cell_type": "code",
   "metadata": {
    "id": "nM_otvWztjpT"
   },
   "source": [
    "pd.options.display.float_format = '{:,.2f}'.format\n",
    "\n",
    "from pandas.plotting import register_matplotlib_converters\n",
    "register_matplotlib_converters()"
   ],
   "execution_count": 2,
   "outputs": []
  },
  {
   "cell_type": "markdown",
   "metadata": {
    "id": "v-fnwNYJtthe"
   },
   "source": [
    "# Read the Data"
   ]
  },
  {
   "cell_type": "code",
   "metadata": {
    "id": "xhwvQQWitrf4"
   },
   "source": [
    "data = pd.read_csv('cost_revenue_dirty.csv')"
   ],
   "execution_count": 3,
   "outputs": []
  },
  {
   "cell_type": "markdown",
   "metadata": {
    "id": "tbg8_J5SuHhs"
   },
   "source": [
    "# Explore and Clean the Data"
   ]
  },
  {
   "cell_type": "markdown",
   "metadata": {
    "id": "xAtdcURCuL0Z"
   },
   "source": [
    "**Challenge**: Answer these questions about the dataset:\n",
    "1. How many rows and columns does the dataset contain?\n",
    "2. Are there any NaN values present?\n",
    "3. Are there any duplicate rows?\n",
    "4. What are the data types of the columns?"
   ]
  },
  {
   "cell_type": "code",
   "metadata": {
    "id": "0isUHdlZulb1",
    "outputId": "face9482-5f1d-4507-b781-31fcbf8a20c2",
    "colab": {
     "base_uri": "https://localhost:8080/",
     "height": 34
    }
   },
   "source": [
    "data.shape"
   ],
   "execution_count": 4,
   "outputs": [
    {
     "data": {
      "text/plain": "(5391, 6)"
     },
     "execution_count": 4,
     "metadata": {},
     "output_type": "execute_result"
    }
   ]
  },
  {
   "cell_type": "code",
   "metadata": {
    "id": "UR4e1lbmcwsT",
    "outputId": "198a416e-c0f9-42aa-908c-7b7c277fd76c",
    "colab": {
     "base_uri": "https://localhost:8080/",
     "height": 204
    }
   },
   "source": [
    "data.sample(5)"
   ],
   "execution_count": 5,
   "outputs": [
    {
     "data": {
      "text/plain": "      Rank Release_Date      Movie_Title USD_Production_Budget  \\\n920   2122   11/10/1996  Michael Collins           $25,000,000   \n4506  4329    12/4/2013        Antiviral            $3,100,000   \n519   3849    12/2/1988      School Daze            $6,000,000   \n4226  4936    9/10/2012     Truth or Die            $1,000,000   \n1767  3144    2/15/2002       Crossroads           $12,000,000   \n\n     USD_Worldwide_Gross USD_Domestic_Gross  \n920          $27,572,844        $11,092,559  \n4506            $123,407                 $0  \n519          $14,545,844        $14,545,844  \n4226                  $0                 $0  \n1767         $57,000,000        $37,188,667  ",
      "text/html": "<div>\n<style scoped>\n    .dataframe tbody tr th:only-of-type {\n        vertical-align: middle;\n    }\n\n    .dataframe tbody tr th {\n        vertical-align: top;\n    }\n\n    .dataframe thead th {\n        text-align: right;\n    }\n</style>\n<table border=\"1\" class=\"dataframe\">\n  <thead>\n    <tr style=\"text-align: right;\">\n      <th></th>\n      <th>Rank</th>\n      <th>Release_Date</th>\n      <th>Movie_Title</th>\n      <th>USD_Production_Budget</th>\n      <th>USD_Worldwide_Gross</th>\n      <th>USD_Domestic_Gross</th>\n    </tr>\n  </thead>\n  <tbody>\n    <tr>\n      <th>920</th>\n      <td>2122</td>\n      <td>11/10/1996</td>\n      <td>Michael Collins</td>\n      <td>$25,000,000</td>\n      <td>$27,572,844</td>\n      <td>$11,092,559</td>\n    </tr>\n    <tr>\n      <th>4506</th>\n      <td>4329</td>\n      <td>12/4/2013</td>\n      <td>Antiviral</td>\n      <td>$3,100,000</td>\n      <td>$123,407</td>\n      <td>$0</td>\n    </tr>\n    <tr>\n      <th>519</th>\n      <td>3849</td>\n      <td>12/2/1988</td>\n      <td>School Daze</td>\n      <td>$6,000,000</td>\n      <td>$14,545,844</td>\n      <td>$14,545,844</td>\n    </tr>\n    <tr>\n      <th>4226</th>\n      <td>4936</td>\n      <td>9/10/2012</td>\n      <td>Truth or Die</td>\n      <td>$1,000,000</td>\n      <td>$0</td>\n      <td>$0</td>\n    </tr>\n    <tr>\n      <th>1767</th>\n      <td>3144</td>\n      <td>2/15/2002</td>\n      <td>Crossroads</td>\n      <td>$12,000,000</td>\n      <td>$57,000,000</td>\n      <td>$37,188,667</td>\n    </tr>\n  </tbody>\n</table>\n</div>"
     },
     "execution_count": 5,
     "metadata": {},
     "output_type": "execute_result"
    }
   ]
  },
  {
   "cell_type": "code",
   "metadata": {
    "id": "v-RPG-shcyRf",
    "outputId": "da5b6451-6569-40aa-c84b-98c7275ca9a9",
    "colab": {
     "base_uri": "https://localhost:8080/",
     "height": 221
    }
   },
   "source": [
    "data.tail()"
   ],
   "execution_count": 6,
   "outputs": [
    {
     "data": {
      "text/plain": "      Rank Release_Date                     Movie_Title USD_Production_Budget  \\\n5386  2950    10/8/2018                             Meg           $15,000,000   \n5387   126   12/18/2018                         Aquaman          $160,000,000   \n5388    96   12/31/2020                     Singularity          $175,000,000   \n5389  1119   12/31/2020          Hannibal the Conqueror           $50,000,000   \n5390  2517   12/31/2020  Story of Bonnie and Clyde, The           $20,000,000   \n\n     USD_Worldwide_Gross USD_Domestic_Gross  \n5386                  $0                 $0  \n5387                  $0                 $0  \n5388                  $0                 $0  \n5389                  $0                 $0  \n5390                  $0                 $0  ",
      "text/html": "<div>\n<style scoped>\n    .dataframe tbody tr th:only-of-type {\n        vertical-align: middle;\n    }\n\n    .dataframe tbody tr th {\n        vertical-align: top;\n    }\n\n    .dataframe thead th {\n        text-align: right;\n    }\n</style>\n<table border=\"1\" class=\"dataframe\">\n  <thead>\n    <tr style=\"text-align: right;\">\n      <th></th>\n      <th>Rank</th>\n      <th>Release_Date</th>\n      <th>Movie_Title</th>\n      <th>USD_Production_Budget</th>\n      <th>USD_Worldwide_Gross</th>\n      <th>USD_Domestic_Gross</th>\n    </tr>\n  </thead>\n  <tbody>\n    <tr>\n      <th>5386</th>\n      <td>2950</td>\n      <td>10/8/2018</td>\n      <td>Meg</td>\n      <td>$15,000,000</td>\n      <td>$0</td>\n      <td>$0</td>\n    </tr>\n    <tr>\n      <th>5387</th>\n      <td>126</td>\n      <td>12/18/2018</td>\n      <td>Aquaman</td>\n      <td>$160,000,000</td>\n      <td>$0</td>\n      <td>$0</td>\n    </tr>\n    <tr>\n      <th>5388</th>\n      <td>96</td>\n      <td>12/31/2020</td>\n      <td>Singularity</td>\n      <td>$175,000,000</td>\n      <td>$0</td>\n      <td>$0</td>\n    </tr>\n    <tr>\n      <th>5389</th>\n      <td>1119</td>\n      <td>12/31/2020</td>\n      <td>Hannibal the Conqueror</td>\n      <td>$50,000,000</td>\n      <td>$0</td>\n      <td>$0</td>\n    </tr>\n    <tr>\n      <th>5390</th>\n      <td>2517</td>\n      <td>12/31/2020</td>\n      <td>Story of Bonnie and Clyde, The</td>\n      <td>$20,000,000</td>\n      <td>$0</td>\n      <td>$0</td>\n    </tr>\n  </tbody>\n</table>\n</div>"
     },
     "execution_count": 6,
     "metadata": {},
     "output_type": "execute_result"
    }
   ]
  },
  {
   "cell_type": "code",
   "metadata": {
    "id": "jczXLtJKiTA3",
    "outputId": "b480beda-09a4-4714-bf61-e440cc0ad872",
    "colab": {
     "base_uri": "https://localhost:8080/",
     "height": 34
    }
   },
   "source": [
    "print(f'Any NaN values among the data? {data.isna().values.any()}')"
   ],
   "execution_count": 7,
   "outputs": [
    {
     "name": "stdout",
     "output_type": "stream",
     "text": [
      "Any NaN values among the data? False\n"
     ]
    }
   ]
  },
  {
   "cell_type": "code",
   "metadata": {
    "id": "wIpcCtn9icR0",
    "outputId": "74ba82c4-17dd-4b28-b729-da90da72ccbd",
    "colab": {
     "base_uri": "https://localhost:8080/",
     "height": 51
    }
   },
   "source": [
    "print(f'Any duplicates? {data.duplicated().values.any()}')\n",
    "\n",
    "duplicated_rows = data[data.duplicated()]\n",
    "print(f'Number of duplicates: {len(duplicated_rows)}')"
   ],
   "execution_count": 8,
   "outputs": [
    {
     "name": "stdout",
     "output_type": "stream",
     "text": [
      "Any duplicates? False\n",
      "Number of duplicates: 0\n"
     ]
    }
   ]
  },
  {
   "cell_type": "code",
   "metadata": {
    "id": "d4YnrL0hj-v0",
    "outputId": "c1e0ae4a-f853-47e1-9306-5a63a3ae80ab",
    "colab": {
     "base_uri": "https://localhost:8080/",
     "height": 238
    }
   },
   "source": [
    "# Show NaN values and data types per column\n",
    "data.info()"
   ],
   "execution_count": 9,
   "outputs": [
    {
     "name": "stdout",
     "output_type": "stream",
     "text": [
      "<class 'pandas.core.frame.DataFrame'>\n",
      "RangeIndex: 5391 entries, 0 to 5390\n",
      "Data columns (total 6 columns):\n",
      " #   Column                 Non-Null Count  Dtype \n",
      "---  ------                 --------------  ----- \n",
      " 0   Rank                   5391 non-null   int64 \n",
      " 1   Release_Date           5391 non-null   object\n",
      " 2   Movie_Title            5391 non-null   object\n",
      " 3   USD_Production_Budget  5391 non-null   object\n",
      " 4   USD_Worldwide_Gross    5391 non-null   object\n",
      " 5   USD_Domestic_Gross     5391 non-null   object\n",
      "dtypes: int64(1), object(5)\n",
      "memory usage: 252.8+ KB\n"
     ]
    }
   ]
  },
  {
   "cell_type": "markdown",
   "metadata": {
    "id": "v8spadDNvpVG"
   },
   "source": [
    "### Data Type Conversions"
   ]
  },
  {
   "cell_type": "markdown",
   "metadata": {
    "id": "9F8KFST4ulrd"
   },
   "source": [
    "**Challenge**: Convert the `USD_Production_Budget`, `USD_Worldwide_Gross`, and `USD_Domestic_Gross` columns to a numeric format by removing `$` signs and `,`. \n",
    "<br>\n",
    "Note that *domestic* in this context refers to the United States."
   ]
  },
  {
   "cell_type": "code",
   "metadata": {
    "id": "bbd78DD6t6ju"
   },
   "source": [
    "chars_to_remove = [',', '$']\n",
    "columns_to_clean = ['USD_Production_Budget', \n",
    "                    'USD_Worldwide_Gross',\n",
    "                    'USD_Domestic_Gross']\n",
    "\n",
    "for col in columns_to_clean:\n",
    "    for char in chars_to_remove:\n",
    "        # Replace each character with an empty string\n",
    "        data[col] = data[col].astype(str).str.replace(char, \"\")\n",
    "    # Convert column to a numeric data type\n",
    "    data[col] = pd.to_numeric(data[col])"
   ],
   "execution_count": 10,
   "outputs": [
    {
     "name": "stderr",
     "output_type": "stream",
     "text": [
      "/var/folders/w1/g4p1dx_92q53ll8gmcbw72x80000gq/T/ipykernel_32041/3425339130.py:9: FutureWarning: The default value of regex will change from True to False in a future version. In addition, single character regular expressions will *not* be treated as literal strings when regex=True.\n",
      "  data[col] = data[col].astype(str).str.replace(char, \"\")\n"
     ]
    }
   ]
  },
  {
   "cell_type": "code",
   "metadata": {
    "id": "rtKWX6-DoKey",
    "outputId": "b7f62388-1ba6-408a-a7cb-de7ba302dc7e",
    "colab": {
     "base_uri": "https://localhost:8080/",
     "height": 0
    }
   },
   "source": [
    "data.head()"
   ],
   "execution_count": 11,
   "outputs": [
    {
     "data": {
      "text/plain": "   Rank Release_Date                     Movie_Title  USD_Production_Budget  \\\n0  5293     8/2/1915           The Birth of a Nation                 110000   \n1  5140     5/9/1916                     Intolerance                 385907   \n2  5230   12/24/1916    20,000 Leagues Under the Sea                 200000   \n3  5299    9/17/1920  Over the Hill to the Poorhouse                 100000   \n4  5222     1/1/1925                  The Big Parade                 245000   \n\n   USD_Worldwide_Gross  USD_Domestic_Gross  \n0             11000000            10000000  \n1                    0                   0  \n2              8000000             8000000  \n3              3000000             3000000  \n4             22000000            11000000  ",
      "text/html": "<div>\n<style scoped>\n    .dataframe tbody tr th:only-of-type {\n        vertical-align: middle;\n    }\n\n    .dataframe tbody tr th {\n        vertical-align: top;\n    }\n\n    .dataframe thead th {\n        text-align: right;\n    }\n</style>\n<table border=\"1\" class=\"dataframe\">\n  <thead>\n    <tr style=\"text-align: right;\">\n      <th></th>\n      <th>Rank</th>\n      <th>Release_Date</th>\n      <th>Movie_Title</th>\n      <th>USD_Production_Budget</th>\n      <th>USD_Worldwide_Gross</th>\n      <th>USD_Domestic_Gross</th>\n    </tr>\n  </thead>\n  <tbody>\n    <tr>\n      <th>0</th>\n      <td>5293</td>\n      <td>8/2/1915</td>\n      <td>The Birth of a Nation</td>\n      <td>110000</td>\n      <td>11000000</td>\n      <td>10000000</td>\n    </tr>\n    <tr>\n      <th>1</th>\n      <td>5140</td>\n      <td>5/9/1916</td>\n      <td>Intolerance</td>\n      <td>385907</td>\n      <td>0</td>\n      <td>0</td>\n    </tr>\n    <tr>\n      <th>2</th>\n      <td>5230</td>\n      <td>12/24/1916</td>\n      <td>20,000 Leagues Under the Sea</td>\n      <td>200000</td>\n      <td>8000000</td>\n      <td>8000000</td>\n    </tr>\n    <tr>\n      <th>3</th>\n      <td>5299</td>\n      <td>9/17/1920</td>\n      <td>Over the Hill to the Poorhouse</td>\n      <td>100000</td>\n      <td>3000000</td>\n      <td>3000000</td>\n    </tr>\n    <tr>\n      <th>4</th>\n      <td>5222</td>\n      <td>1/1/1925</td>\n      <td>The Big Parade</td>\n      <td>245000</td>\n      <td>22000000</td>\n      <td>11000000</td>\n    </tr>\n  </tbody>\n</table>\n</div>"
     },
     "execution_count": 11,
     "metadata": {},
     "output_type": "execute_result"
    }
   ]
  },
  {
   "cell_type": "markdown",
   "metadata": {
    "id": "cA01iJHkvWhl"
   },
   "source": [
    "**Challenge**: Convert the `Release_Date` column to a Pandas Datetime type. "
   ]
  },
  {
   "cell_type": "code",
   "metadata": {
    "id": "fC0qFbtVvN1r",
    "outputId": "5a4d2e6d-b735-44ca-9e43-c9e47fe5d12c",
    "colab": {
     "base_uri": "https://localhost:8080/",
     "height": 0
    }
   },
   "source": [
    "data.Release_Date = pd.to_datetime(data.Release_Date)\n",
    "data.head()"
   ],
   "execution_count": 12,
   "outputs": [
    {
     "data": {
      "text/plain": "   Rank Release_Date                     Movie_Title  USD_Production_Budget  \\\n0  5293   1915-08-02           The Birth of a Nation                 110000   \n1  5140   1916-05-09                     Intolerance                 385907   \n2  5230   1916-12-24    20,000 Leagues Under the Sea                 200000   \n3  5299   1920-09-17  Over the Hill to the Poorhouse                 100000   \n4  5222   1925-01-01                  The Big Parade                 245000   \n\n   USD_Worldwide_Gross  USD_Domestic_Gross  \n0             11000000            10000000  \n1                    0                   0  \n2              8000000             8000000  \n3              3000000             3000000  \n4             22000000            11000000  ",
      "text/html": "<div>\n<style scoped>\n    .dataframe tbody tr th:only-of-type {\n        vertical-align: middle;\n    }\n\n    .dataframe tbody tr th {\n        vertical-align: top;\n    }\n\n    .dataframe thead th {\n        text-align: right;\n    }\n</style>\n<table border=\"1\" class=\"dataframe\">\n  <thead>\n    <tr style=\"text-align: right;\">\n      <th></th>\n      <th>Rank</th>\n      <th>Release_Date</th>\n      <th>Movie_Title</th>\n      <th>USD_Production_Budget</th>\n      <th>USD_Worldwide_Gross</th>\n      <th>USD_Domestic_Gross</th>\n    </tr>\n  </thead>\n  <tbody>\n    <tr>\n      <th>0</th>\n      <td>5293</td>\n      <td>1915-08-02</td>\n      <td>The Birth of a Nation</td>\n      <td>110000</td>\n      <td>11000000</td>\n      <td>10000000</td>\n    </tr>\n    <tr>\n      <th>1</th>\n      <td>5140</td>\n      <td>1916-05-09</td>\n      <td>Intolerance</td>\n      <td>385907</td>\n      <td>0</td>\n      <td>0</td>\n    </tr>\n    <tr>\n      <th>2</th>\n      <td>5230</td>\n      <td>1916-12-24</td>\n      <td>20,000 Leagues Under the Sea</td>\n      <td>200000</td>\n      <td>8000000</td>\n      <td>8000000</td>\n    </tr>\n    <tr>\n      <th>3</th>\n      <td>5299</td>\n      <td>1920-09-17</td>\n      <td>Over the Hill to the Poorhouse</td>\n      <td>100000</td>\n      <td>3000000</td>\n      <td>3000000</td>\n    </tr>\n    <tr>\n      <th>4</th>\n      <td>5222</td>\n      <td>1925-01-01</td>\n      <td>The Big Parade</td>\n      <td>245000</td>\n      <td>22000000</td>\n      <td>11000000</td>\n    </tr>\n  </tbody>\n</table>\n</div>"
     },
     "execution_count": 12,
     "metadata": {},
     "output_type": "execute_result"
    }
   ]
  },
  {
   "cell_type": "code",
   "metadata": {
    "id": "qD4lv7EJomEz",
    "outputId": "75a5a89d-57d4-448b-b8aa-89bbaf8d65e0",
    "colab": {
     "base_uri": "https://localhost:8080/",
     "height": 0
    }
   },
   "source": [
    "data.info()"
   ],
   "execution_count": 13,
   "outputs": [
    {
     "name": "stdout",
     "output_type": "stream",
     "text": [
      "<class 'pandas.core.frame.DataFrame'>\n",
      "RangeIndex: 5391 entries, 0 to 5390\n",
      "Data columns (total 6 columns):\n",
      " #   Column                 Non-Null Count  Dtype         \n",
      "---  ------                 --------------  -----         \n",
      " 0   Rank                   5391 non-null   int64         \n",
      " 1   Release_Date           5391 non-null   datetime64[ns]\n",
      " 2   Movie_Title            5391 non-null   object        \n",
      " 3   USD_Production_Budget  5391 non-null   int64         \n",
      " 4   USD_Worldwide_Gross    5391 non-null   int64         \n",
      " 5   USD_Domestic_Gross     5391 non-null   int64         \n",
      "dtypes: datetime64[ns](1), int64(4), object(1)\n",
      "memory usage: 252.8+ KB\n"
     ]
    }
   ]
  },
  {
   "cell_type": "markdown",
   "metadata": {
    "id": "NkwmJO3tvt5i"
   },
   "source": [
    "### Descriptive Statistics"
   ]
  },
  {
   "cell_type": "markdown",
   "metadata": {
    "id": "bnb54thrvx5r"
   },
   "source": [
    "**Challenge**: \n",
    "\n",
    "1. What is the average production budget of the films in the data set?\n",
    "2. What is the average worldwide gross revenue of films?\n",
    "3. What were the minimums for worldwide and domestic revenue?\n",
    "4. Are the bottom 25% of films actually profitable or do they lose money?\n",
    "5. What are the highest production budget and highest worldwide gross revenue of any film?\n",
    "6. How much revenue did the lowest and highest budget films make?"
   ]
  },
  {
   "cell_type": "code",
   "metadata": {
    "id": "SoJW-X4lvweo",
    "outputId": "16c91ef5-bda9-4b6f-ee01-e9600109d099",
    "colab": {
     "base_uri": "https://localhost:8080/",
     "height": 0
    }
   },
   "source": [
    "data.describe()"
   ],
   "execution_count": 14,
   "outputs": [
    {
     "data": {
      "text/plain": "          Rank  USD_Production_Budget  USD_Worldwide_Gross  USD_Domestic_Gross\ncount 5,391.00               5,391.00             5,391.00            5,391.00\nmean  2,696.00          31,113,737.58        88,855,421.96       41,235,519.44\nstd   1,556.39          40,523,796.88       168,457,757.00       66,029,346.27\nmin       1.00               1,100.00                 0.00                0.00\n25%   1,348.50           5,000,000.00         3,865,206.00        1,330,901.50\n50%   2,696.00          17,000,000.00        27,450,453.00       17,192,205.00\n75%   4,043.50          40,000,000.00        96,454,455.00       52,343,687.00\nmax   5,391.00         425,000,000.00     2,783,918,982.00      936,662,225.00",
      "text/html": "<div>\n<style scoped>\n    .dataframe tbody tr th:only-of-type {\n        vertical-align: middle;\n    }\n\n    .dataframe tbody tr th {\n        vertical-align: top;\n    }\n\n    .dataframe thead th {\n        text-align: right;\n    }\n</style>\n<table border=\"1\" class=\"dataframe\">\n  <thead>\n    <tr style=\"text-align: right;\">\n      <th></th>\n      <th>Rank</th>\n      <th>USD_Production_Budget</th>\n      <th>USD_Worldwide_Gross</th>\n      <th>USD_Domestic_Gross</th>\n    </tr>\n  </thead>\n  <tbody>\n    <tr>\n      <th>count</th>\n      <td>5,391.00</td>\n      <td>5,391.00</td>\n      <td>5,391.00</td>\n      <td>5,391.00</td>\n    </tr>\n    <tr>\n      <th>mean</th>\n      <td>2,696.00</td>\n      <td>31,113,737.58</td>\n      <td>88,855,421.96</td>\n      <td>41,235,519.44</td>\n    </tr>\n    <tr>\n      <th>std</th>\n      <td>1,556.39</td>\n      <td>40,523,796.88</td>\n      <td>168,457,757.00</td>\n      <td>66,029,346.27</td>\n    </tr>\n    <tr>\n      <th>min</th>\n      <td>1.00</td>\n      <td>1,100.00</td>\n      <td>0.00</td>\n      <td>0.00</td>\n    </tr>\n    <tr>\n      <th>25%</th>\n      <td>1,348.50</td>\n      <td>5,000,000.00</td>\n      <td>3,865,206.00</td>\n      <td>1,330,901.50</td>\n    </tr>\n    <tr>\n      <th>50%</th>\n      <td>2,696.00</td>\n      <td>17,000,000.00</td>\n      <td>27,450,453.00</td>\n      <td>17,192,205.00</td>\n    </tr>\n    <tr>\n      <th>75%</th>\n      <td>4,043.50</td>\n      <td>40,000,000.00</td>\n      <td>96,454,455.00</td>\n      <td>52,343,687.00</td>\n    </tr>\n    <tr>\n      <th>max</th>\n      <td>5,391.00</td>\n      <td>425,000,000.00</td>\n      <td>2,783,918,982.00</td>\n      <td>936,662,225.00</td>\n    </tr>\n  </tbody>\n</table>\n</div>"
     },
     "execution_count": 14,
     "metadata": {},
     "output_type": "execute_result"
    }
   ]
  },
  {
   "cell_type": "code",
   "metadata": {
    "id": "L3ISNeQFJuH0",
    "outputId": "06715e5d-2027-4178-b7dd-3e14ef9f22f3",
    "colab": {
     "base_uri": "https://localhost:8080/",
     "height": 0
    }
   },
   "source": [
    "data[data.USD_Production_Budget == 1100.00]"
   ],
   "execution_count": 15,
   "outputs": [
    {
     "data": {
      "text/plain": "      Rank Release_Date        Movie_Title  USD_Production_Budget  \\\n2427  5391   2005-05-08  My Date With Drew                   1100   \n\n      USD_Worldwide_Gross  USD_Domestic_Gross  \n2427               181041              181041  ",
      "text/html": "<div>\n<style scoped>\n    .dataframe tbody tr th:only-of-type {\n        vertical-align: middle;\n    }\n\n    .dataframe tbody tr th {\n        vertical-align: top;\n    }\n\n    .dataframe thead th {\n        text-align: right;\n    }\n</style>\n<table border=\"1\" class=\"dataframe\">\n  <thead>\n    <tr style=\"text-align: right;\">\n      <th></th>\n      <th>Rank</th>\n      <th>Release_Date</th>\n      <th>Movie_Title</th>\n      <th>USD_Production_Budget</th>\n      <th>USD_Worldwide_Gross</th>\n      <th>USD_Domestic_Gross</th>\n    </tr>\n  </thead>\n  <tbody>\n    <tr>\n      <th>2427</th>\n      <td>5391</td>\n      <td>2005-05-08</td>\n      <td>My Date With Drew</td>\n      <td>1100</td>\n      <td>181041</td>\n      <td>181041</td>\n    </tr>\n  </tbody>\n</table>\n</div>"
     },
     "execution_count": 15,
     "metadata": {},
     "output_type": "execute_result"
    }
   ]
  },
  {
   "cell_type": "code",
   "metadata": {
    "id": "Tj1ODm7exTBP",
    "outputId": "5c1934ff-3c8b-41e8-ca57-8d02222e3c2f",
    "colab": {
     "base_uri": "https://localhost:8080/",
     "height": 0
    }
   },
   "source": [
    "data[data.USD_Production_Budget == 425000000.00]"
   ],
   "execution_count": 16,
   "outputs": [
    {
     "data": {
      "text/plain": "      Rank Release_Date Movie_Title  USD_Production_Budget  \\\n3529     1   2009-12-18      Avatar              425000000   \n\n      USD_Worldwide_Gross  USD_Domestic_Gross  \n3529           2783918982           760507625  ",
      "text/html": "<div>\n<style scoped>\n    .dataframe tbody tr th:only-of-type {\n        vertical-align: middle;\n    }\n\n    .dataframe tbody tr th {\n        vertical-align: top;\n    }\n\n    .dataframe thead th {\n        text-align: right;\n    }\n</style>\n<table border=\"1\" class=\"dataframe\">\n  <thead>\n    <tr style=\"text-align: right;\">\n      <th></th>\n      <th>Rank</th>\n      <th>Release_Date</th>\n      <th>Movie_Title</th>\n      <th>USD_Production_Budget</th>\n      <th>USD_Worldwide_Gross</th>\n      <th>USD_Domestic_Gross</th>\n    </tr>\n  </thead>\n  <tbody>\n    <tr>\n      <th>3529</th>\n      <td>1</td>\n      <td>2009-12-18</td>\n      <td>Avatar</td>\n      <td>425000000</td>\n      <td>2783918982</td>\n      <td>760507625</td>\n    </tr>\n  </tbody>\n</table>\n</div>"
     },
     "execution_count": 16,
     "metadata": {},
     "output_type": "execute_result"
    }
   ]
  },
  {
   "cell_type": "markdown",
   "metadata": {
    "id": "Cj-ug32JyEhp"
   },
   "source": [
    "# Investigating the Zero Revenue Films"
   ]
  },
  {
   "cell_type": "markdown",
   "metadata": {
    "id": "U9hm-pb4xTjY"
   },
   "source": [
    "**Challenge** How many films grossed $0 domestically (i.e., in the United States)? What were the highest budget films that grossed nothing?"
   ]
  },
  {
   "cell_type": "code",
   "metadata": {
    "id": "kWEhsGXLx7Fh",
    "outputId": "ac201ffc-dc13-48f5-a9af-fb1bacc9848a",
    "colab": {
     "base_uri": "https://localhost:8080/",
     "height": 470
    }
   },
   "source": [
    "zero_domestic = data[data.USD_Domestic_Gross == 0]\n",
    "print(f'Number of films that grossed $0 domestically {len(zero_domestic)}')\n",
    "zero_domestic.sort_values('USD_Production_Budget', ascending=False)"
   ],
   "execution_count": 17,
   "outputs": [
    {
     "name": "stdout",
     "output_type": "stream",
     "text": [
      "Number of films that grossed $0 domestically 512\n"
     ]
    },
    {
     "data": {
      "text/plain": "      Rank Release_Date                         Movie_Title  \\\n5388    96   2020-12-31                         Singularity   \n5387   126   2018-12-18                             Aquaman   \n5384   321   2018-09-03                   A Wrinkle in Time   \n5385   366   2018-10-08                      Amusement Park   \n5090   556   2015-12-31  Don Gato, el inicio de la pandilla   \n...    ...          ...                                 ...   \n4787  5371   2014-12-31                Stories of Our Lives   \n3056  5374   2007-12-31                         Tin Can Man   \n4907  5381   2015-05-19                    Family Motocross   \n5006  5389   2015-09-29             Signed Sealed Delivered   \n5007  5390   2015-09-29                A Plague So Pleasant   \n\n      USD_Production_Budget  USD_Worldwide_Gross  USD_Domestic_Gross  \n5388              175000000                    0                   0  \n5387              160000000                    0                   0  \n5384              103000000                    0                   0  \n5385              100000000                    0                   0  \n5090               80000000              4547660                   0  \n...                     ...                  ...                 ...  \n4787                  15000                    0                   0  \n3056                  12000                    0                   0  \n4907                  10000                    0                   0  \n5006                   5000                    0                   0  \n5007                   1400                    0                   0  \n\n[512 rows x 6 columns]",
      "text/html": "<div>\n<style scoped>\n    .dataframe tbody tr th:only-of-type {\n        vertical-align: middle;\n    }\n\n    .dataframe tbody tr th {\n        vertical-align: top;\n    }\n\n    .dataframe thead th {\n        text-align: right;\n    }\n</style>\n<table border=\"1\" class=\"dataframe\">\n  <thead>\n    <tr style=\"text-align: right;\">\n      <th></th>\n      <th>Rank</th>\n      <th>Release_Date</th>\n      <th>Movie_Title</th>\n      <th>USD_Production_Budget</th>\n      <th>USD_Worldwide_Gross</th>\n      <th>USD_Domestic_Gross</th>\n    </tr>\n  </thead>\n  <tbody>\n    <tr>\n      <th>5388</th>\n      <td>96</td>\n      <td>2020-12-31</td>\n      <td>Singularity</td>\n      <td>175000000</td>\n      <td>0</td>\n      <td>0</td>\n    </tr>\n    <tr>\n      <th>5387</th>\n      <td>126</td>\n      <td>2018-12-18</td>\n      <td>Aquaman</td>\n      <td>160000000</td>\n      <td>0</td>\n      <td>0</td>\n    </tr>\n    <tr>\n      <th>5384</th>\n      <td>321</td>\n      <td>2018-09-03</td>\n      <td>A Wrinkle in Time</td>\n      <td>103000000</td>\n      <td>0</td>\n      <td>0</td>\n    </tr>\n    <tr>\n      <th>5385</th>\n      <td>366</td>\n      <td>2018-10-08</td>\n      <td>Amusement Park</td>\n      <td>100000000</td>\n      <td>0</td>\n      <td>0</td>\n    </tr>\n    <tr>\n      <th>5090</th>\n      <td>556</td>\n      <td>2015-12-31</td>\n      <td>Don Gato, el inicio de la pandilla</td>\n      <td>80000000</td>\n      <td>4547660</td>\n      <td>0</td>\n    </tr>\n    <tr>\n      <th>...</th>\n      <td>...</td>\n      <td>...</td>\n      <td>...</td>\n      <td>...</td>\n      <td>...</td>\n      <td>...</td>\n    </tr>\n    <tr>\n      <th>4787</th>\n      <td>5371</td>\n      <td>2014-12-31</td>\n      <td>Stories of Our Lives</td>\n      <td>15000</td>\n      <td>0</td>\n      <td>0</td>\n    </tr>\n    <tr>\n      <th>3056</th>\n      <td>5374</td>\n      <td>2007-12-31</td>\n      <td>Tin Can Man</td>\n      <td>12000</td>\n      <td>0</td>\n      <td>0</td>\n    </tr>\n    <tr>\n      <th>4907</th>\n      <td>5381</td>\n      <td>2015-05-19</td>\n      <td>Family Motocross</td>\n      <td>10000</td>\n      <td>0</td>\n      <td>0</td>\n    </tr>\n    <tr>\n      <th>5006</th>\n      <td>5389</td>\n      <td>2015-09-29</td>\n      <td>Signed Sealed Delivered</td>\n      <td>5000</td>\n      <td>0</td>\n      <td>0</td>\n    </tr>\n    <tr>\n      <th>5007</th>\n      <td>5390</td>\n      <td>2015-09-29</td>\n      <td>A Plague So Pleasant</td>\n      <td>1400</td>\n      <td>0</td>\n      <td>0</td>\n    </tr>\n  </tbody>\n</table>\n<p>512 rows × 6 columns</p>\n</div>"
     },
     "execution_count": 17,
     "metadata": {},
     "output_type": "execute_result"
    }
   ]
  },
  {
   "cell_type": "markdown",
   "metadata": {
    "id": "mY8SAwI0x73b"
   },
   "source": [
    "**Challenge**: How many films grossed $0 worldwide? What are the highest budget films that had no revenue internationally?"
   ]
  },
  {
   "cell_type": "code",
   "metadata": {
    "id": "RZ8jz8msyR29",
    "outputId": "b47339a8-6801-47e7-dbc1-4fad803795bf",
    "colab": {
     "base_uri": "https://localhost:8080/",
     "height": 453
    }
   },
   "source": [
    "zero_worldwide = data[data.USD_Worldwide_Gross == 0]\n",
    "print(f'Number of films that grossed $0 worldwide {len(zero_worldwide)}')\n",
    "zero_worldwide.sort_values('USD_Production_Budget', ascending=False)"
   ],
   "execution_count": 18,
   "outputs": [
    {
     "name": "stdout",
     "output_type": "stream",
     "text": [
      "Number of films that grossed $0 worldwide 357\n"
     ]
    },
    {
     "data": {
      "text/plain": "      Rank Release_Date              Movie_Title  USD_Production_Budget  \\\n5388    96   2020-12-31              Singularity              175000000   \n5387   126   2018-12-18                  Aquaman              160000000   \n5384   321   2018-09-03        A Wrinkle in Time              103000000   \n5385   366   2018-10-08           Amusement Park              100000000   \n5058   880   2015-11-12         The Ridiculous 6               60000000   \n...    ...          ...                      ...                    ...   \n4787  5371   2014-12-31     Stories of Our Lives                  15000   \n3056  5374   2007-12-31              Tin Can Man                  12000   \n4907  5381   2015-05-19         Family Motocross                  10000   \n5006  5389   2015-09-29  Signed Sealed Delivered                   5000   \n5007  5390   2015-09-29     A Plague So Pleasant                   1400   \n\n      USD_Worldwide_Gross  USD_Domestic_Gross  \n5388                    0                   0  \n5387                    0                   0  \n5384                    0                   0  \n5385                    0                   0  \n5058                    0                   0  \n...                   ...                 ...  \n4787                    0                   0  \n3056                    0                   0  \n4907                    0                   0  \n5006                    0                   0  \n5007                    0                   0  \n\n[357 rows x 6 columns]",
      "text/html": "<div>\n<style scoped>\n    .dataframe tbody tr th:only-of-type {\n        vertical-align: middle;\n    }\n\n    .dataframe tbody tr th {\n        vertical-align: top;\n    }\n\n    .dataframe thead th {\n        text-align: right;\n    }\n</style>\n<table border=\"1\" class=\"dataframe\">\n  <thead>\n    <tr style=\"text-align: right;\">\n      <th></th>\n      <th>Rank</th>\n      <th>Release_Date</th>\n      <th>Movie_Title</th>\n      <th>USD_Production_Budget</th>\n      <th>USD_Worldwide_Gross</th>\n      <th>USD_Domestic_Gross</th>\n    </tr>\n  </thead>\n  <tbody>\n    <tr>\n      <th>5388</th>\n      <td>96</td>\n      <td>2020-12-31</td>\n      <td>Singularity</td>\n      <td>175000000</td>\n      <td>0</td>\n      <td>0</td>\n    </tr>\n    <tr>\n      <th>5387</th>\n      <td>126</td>\n      <td>2018-12-18</td>\n      <td>Aquaman</td>\n      <td>160000000</td>\n      <td>0</td>\n      <td>0</td>\n    </tr>\n    <tr>\n      <th>5384</th>\n      <td>321</td>\n      <td>2018-09-03</td>\n      <td>A Wrinkle in Time</td>\n      <td>103000000</td>\n      <td>0</td>\n      <td>0</td>\n    </tr>\n    <tr>\n      <th>5385</th>\n      <td>366</td>\n      <td>2018-10-08</td>\n      <td>Amusement Park</td>\n      <td>100000000</td>\n      <td>0</td>\n      <td>0</td>\n    </tr>\n    <tr>\n      <th>5058</th>\n      <td>880</td>\n      <td>2015-11-12</td>\n      <td>The Ridiculous 6</td>\n      <td>60000000</td>\n      <td>0</td>\n      <td>0</td>\n    </tr>\n    <tr>\n      <th>...</th>\n      <td>...</td>\n      <td>...</td>\n      <td>...</td>\n      <td>...</td>\n      <td>...</td>\n      <td>...</td>\n    </tr>\n    <tr>\n      <th>4787</th>\n      <td>5371</td>\n      <td>2014-12-31</td>\n      <td>Stories of Our Lives</td>\n      <td>15000</td>\n      <td>0</td>\n      <td>0</td>\n    </tr>\n    <tr>\n      <th>3056</th>\n      <td>5374</td>\n      <td>2007-12-31</td>\n      <td>Tin Can Man</td>\n      <td>12000</td>\n      <td>0</td>\n      <td>0</td>\n    </tr>\n    <tr>\n      <th>4907</th>\n      <td>5381</td>\n      <td>2015-05-19</td>\n      <td>Family Motocross</td>\n      <td>10000</td>\n      <td>0</td>\n      <td>0</td>\n    </tr>\n    <tr>\n      <th>5006</th>\n      <td>5389</td>\n      <td>2015-09-29</td>\n      <td>Signed Sealed Delivered</td>\n      <td>5000</td>\n      <td>0</td>\n      <td>0</td>\n    </tr>\n    <tr>\n      <th>5007</th>\n      <td>5390</td>\n      <td>2015-09-29</td>\n      <td>A Plague So Pleasant</td>\n      <td>1400</td>\n      <td>0</td>\n      <td>0</td>\n    </tr>\n  </tbody>\n</table>\n<p>357 rows × 6 columns</p>\n</div>"
     },
     "execution_count": 18,
     "metadata": {},
     "output_type": "execute_result"
    }
   ]
  },
  {
   "cell_type": "markdown",
   "metadata": {
    "id": "eXUDzWpeyV2f"
   },
   "source": [
    "### Filtering on Multiple Conditions"
   ]
  },
  {
   "cell_type": "code",
   "metadata": {
    "id": "_HBWlC4cyY_d",
    "outputId": "6e1546cb-485f-4b95-907c-4bba69db5d75",
    "colab": {
     "base_uri": "https://localhost:8080/",
     "height": 0
    }
   },
   "source": [
    "international_releases = data.loc[(data.USD_Domestic_Gross == 0) & \n",
    "                                  (data.USD_Worldwide_Gross != 0)]\n",
    "print(f'Number of international releases: {len(international_releases)}')\n",
    "international_releases.head()"
   ],
   "execution_count": 19,
   "outputs": [
    {
     "name": "stdout",
     "output_type": "stream",
     "text": [
      "Number of international releases: 155\n"
     ]
    },
    {
     "data": {
      "text/plain": "      Rank Release_Date              Movie_Title  USD_Production_Budget  \\\n71    4310   1956-02-16                 Carousel                3380000   \n1579  5087   2001-02-11  Everything Put Together                 500000   \n1744  3695   2001-12-31                 The Hole                7500000   \n2155  4236   2003-12-31                  Nothing                4000000   \n2203  2513   2004-03-31                The Touch               20000000   \n\n      USD_Worldwide_Gross  USD_Domestic_Gross  \n71                   3220                   0  \n1579                 7890                   0  \n1744             10834406                   0  \n2155                63180                   0  \n2203              5918742                   0  ",
      "text/html": "<div>\n<style scoped>\n    .dataframe tbody tr th:only-of-type {\n        vertical-align: middle;\n    }\n\n    .dataframe tbody tr th {\n        vertical-align: top;\n    }\n\n    .dataframe thead th {\n        text-align: right;\n    }\n</style>\n<table border=\"1\" class=\"dataframe\">\n  <thead>\n    <tr style=\"text-align: right;\">\n      <th></th>\n      <th>Rank</th>\n      <th>Release_Date</th>\n      <th>Movie_Title</th>\n      <th>USD_Production_Budget</th>\n      <th>USD_Worldwide_Gross</th>\n      <th>USD_Domestic_Gross</th>\n    </tr>\n  </thead>\n  <tbody>\n    <tr>\n      <th>71</th>\n      <td>4310</td>\n      <td>1956-02-16</td>\n      <td>Carousel</td>\n      <td>3380000</td>\n      <td>3220</td>\n      <td>0</td>\n    </tr>\n    <tr>\n      <th>1579</th>\n      <td>5087</td>\n      <td>2001-02-11</td>\n      <td>Everything Put Together</td>\n      <td>500000</td>\n      <td>7890</td>\n      <td>0</td>\n    </tr>\n    <tr>\n      <th>1744</th>\n      <td>3695</td>\n      <td>2001-12-31</td>\n      <td>The Hole</td>\n      <td>7500000</td>\n      <td>10834406</td>\n      <td>0</td>\n    </tr>\n    <tr>\n      <th>2155</th>\n      <td>4236</td>\n      <td>2003-12-31</td>\n      <td>Nothing</td>\n      <td>4000000</td>\n      <td>63180</td>\n      <td>0</td>\n    </tr>\n    <tr>\n      <th>2203</th>\n      <td>2513</td>\n      <td>2004-03-31</td>\n      <td>The Touch</td>\n      <td>20000000</td>\n      <td>5918742</td>\n      <td>0</td>\n    </tr>\n  </tbody>\n</table>\n</div>"
     },
     "execution_count": 19,
     "metadata": {},
     "output_type": "execute_result"
    }
   ]
  },
  {
   "cell_type": "markdown",
   "metadata": {
    "id": "YruPjqLVPuiB"
   },
   "source": [
    "**Challenge**: Use the [`.query()` function](https://pandas.pydata.org/pandas-docs/stable/reference/api/pandas.DataFrame.query.html) to accomplish the same thing. Create a subset for international releases that had some worldwide gross revenue, but made zero revenue in the United States. \n",
    "\n",
    "Hint: This time you'll have to use the `and` keyword."
   ]
  },
  {
   "cell_type": "code",
   "metadata": {
    "id": "op6n-4pYPpts",
    "outputId": "750acc4b-efbc-43d0-ce25-d8641b532feb",
    "colab": {
     "base_uri": "https://localhost:8080/",
     "height": 0
    }
   },
   "source": [
    "international_releases = data.query('USD_Domestic_Gross == 0 and USD_Worldwide_Gross != 0')\n",
    "print(f'Number of international releases: {len(international_releases)}')\n",
    "international_releases.tail()"
   ],
   "execution_count": 20,
   "outputs": [
    {
     "name": "stdout",
     "output_type": "stream",
     "text": [
      "Number of international releases: 155\n"
     ]
    },
    {
     "data": {
      "text/plain": "      Rank Release_Date           Movie_Title  USD_Production_Budget  \\\n5340  1506   2017-04-14   Queen of the Desert               36000000   \n5348  2225   2017-05-05     Chāi dàn zhuānjiā               23000000   \n5360  4832   2017-07-03             Departure                1100000   \n5372  1856   2017-08-25             Ballerina               30000000   \n5374  4237   2017-08-25  Polina danser sa vie                4000000   \n\n      USD_Worldwide_Gross  USD_Domestic_Gross  \n5340              1480089                   0  \n5348             58807172                   0  \n5360                27561                   0  \n5372             48048527                   0  \n5374                36630                   0  ",
      "text/html": "<div>\n<style scoped>\n    .dataframe tbody tr th:only-of-type {\n        vertical-align: middle;\n    }\n\n    .dataframe tbody tr th {\n        vertical-align: top;\n    }\n\n    .dataframe thead th {\n        text-align: right;\n    }\n</style>\n<table border=\"1\" class=\"dataframe\">\n  <thead>\n    <tr style=\"text-align: right;\">\n      <th></th>\n      <th>Rank</th>\n      <th>Release_Date</th>\n      <th>Movie_Title</th>\n      <th>USD_Production_Budget</th>\n      <th>USD_Worldwide_Gross</th>\n      <th>USD_Domestic_Gross</th>\n    </tr>\n  </thead>\n  <tbody>\n    <tr>\n      <th>5340</th>\n      <td>1506</td>\n      <td>2017-04-14</td>\n      <td>Queen of the Desert</td>\n      <td>36000000</td>\n      <td>1480089</td>\n      <td>0</td>\n    </tr>\n    <tr>\n      <th>5348</th>\n      <td>2225</td>\n      <td>2017-05-05</td>\n      <td>Chāi dàn zhuānjiā</td>\n      <td>23000000</td>\n      <td>58807172</td>\n      <td>0</td>\n    </tr>\n    <tr>\n      <th>5360</th>\n      <td>4832</td>\n      <td>2017-07-03</td>\n      <td>Departure</td>\n      <td>1100000</td>\n      <td>27561</td>\n      <td>0</td>\n    </tr>\n    <tr>\n      <th>5372</th>\n      <td>1856</td>\n      <td>2017-08-25</td>\n      <td>Ballerina</td>\n      <td>30000000</td>\n      <td>48048527</td>\n      <td>0</td>\n    </tr>\n    <tr>\n      <th>5374</th>\n      <td>4237</td>\n      <td>2017-08-25</td>\n      <td>Polina danser sa vie</td>\n      <td>4000000</td>\n      <td>36630</td>\n      <td>0</td>\n    </tr>\n  </tbody>\n</table>\n</div>"
     },
     "execution_count": 20,
     "metadata": {},
     "output_type": "execute_result"
    }
   ]
  },
  {
   "cell_type": "markdown",
   "metadata": {
    "id": "EM-FTE4OZhfr"
   },
   "source": [
    "### Unreleased Films\n",
    "\n",
    "**Challenge**:\n",
    "* Identify which films were not released yet as of the time of data collection (May 1st, 2018).\n",
    "* How many films are included in the dataset that have not yet had a chance to be screened in the box office? \n",
    "* Create another DataFrame called data_clean that does not include these films. "
   ]
  },
  {
   "cell_type": "code",
   "metadata": {
    "id": "PIukYVY9Zpxu"
   },
   "source": [
    "# Date of Data Collection\n",
    "scrape_date = pd.Timestamp('2018-5-1')"
   ],
   "execution_count": 21,
   "outputs": []
  },
  {
   "cell_type": "code",
   "metadata": {
    "id": "EvoWvKCTZsi7",
    "outputId": "2bc00876-ac41-474e-9db9-99ac9d7ef227",
    "colab": {
     "base_uri": "https://localhost:8080/",
     "height": 0
    }
   },
   "source": [
    "future_releases = data[data.Release_Date >= scrape_date]\n",
    "print(f'Number of unreleased movies: {len(future_releases)}')\n",
    "future_releases"
   ],
   "execution_count": 22,
   "outputs": [
    {
     "name": "stdout",
     "output_type": "stream",
     "text": [
      "Number of unreleased movies: 7\n"
     ]
    },
    {
     "data": {
      "text/plain": "      Rank Release_Date                     Movie_Title  \\\n5384   321   2018-09-03               A Wrinkle in Time   \n5385   366   2018-10-08                  Amusement Park   \n5386  2950   2018-10-08                             Meg   \n5387   126   2018-12-18                         Aquaman   \n5388    96   2020-12-31                     Singularity   \n5389  1119   2020-12-31          Hannibal the Conqueror   \n5390  2517   2020-12-31  Story of Bonnie and Clyde, The   \n\n      USD_Production_Budget  USD_Worldwide_Gross  USD_Domestic_Gross  \n5384              103000000                    0                   0  \n5385              100000000                    0                   0  \n5386               15000000                    0                   0  \n5387              160000000                    0                   0  \n5388              175000000                    0                   0  \n5389               50000000                    0                   0  \n5390               20000000                    0                   0  ",
      "text/html": "<div>\n<style scoped>\n    .dataframe tbody tr th:only-of-type {\n        vertical-align: middle;\n    }\n\n    .dataframe tbody tr th {\n        vertical-align: top;\n    }\n\n    .dataframe thead th {\n        text-align: right;\n    }\n</style>\n<table border=\"1\" class=\"dataframe\">\n  <thead>\n    <tr style=\"text-align: right;\">\n      <th></th>\n      <th>Rank</th>\n      <th>Release_Date</th>\n      <th>Movie_Title</th>\n      <th>USD_Production_Budget</th>\n      <th>USD_Worldwide_Gross</th>\n      <th>USD_Domestic_Gross</th>\n    </tr>\n  </thead>\n  <tbody>\n    <tr>\n      <th>5384</th>\n      <td>321</td>\n      <td>2018-09-03</td>\n      <td>A Wrinkle in Time</td>\n      <td>103000000</td>\n      <td>0</td>\n      <td>0</td>\n    </tr>\n    <tr>\n      <th>5385</th>\n      <td>366</td>\n      <td>2018-10-08</td>\n      <td>Amusement Park</td>\n      <td>100000000</td>\n      <td>0</td>\n      <td>0</td>\n    </tr>\n    <tr>\n      <th>5386</th>\n      <td>2950</td>\n      <td>2018-10-08</td>\n      <td>Meg</td>\n      <td>15000000</td>\n      <td>0</td>\n      <td>0</td>\n    </tr>\n    <tr>\n      <th>5387</th>\n      <td>126</td>\n      <td>2018-12-18</td>\n      <td>Aquaman</td>\n      <td>160000000</td>\n      <td>0</td>\n      <td>0</td>\n    </tr>\n    <tr>\n      <th>5388</th>\n      <td>96</td>\n      <td>2020-12-31</td>\n      <td>Singularity</td>\n      <td>175000000</td>\n      <td>0</td>\n      <td>0</td>\n    </tr>\n    <tr>\n      <th>5389</th>\n      <td>1119</td>\n      <td>2020-12-31</td>\n      <td>Hannibal the Conqueror</td>\n      <td>50000000</td>\n      <td>0</td>\n      <td>0</td>\n    </tr>\n    <tr>\n      <th>5390</th>\n      <td>2517</td>\n      <td>2020-12-31</td>\n      <td>Story of Bonnie and Clyde, The</td>\n      <td>20000000</td>\n      <td>0</td>\n      <td>0</td>\n    </tr>\n  </tbody>\n</table>\n</div>"
     },
     "execution_count": 22,
     "metadata": {},
     "output_type": "execute_result"
    }
   ]
  },
  {
   "cell_type": "code",
   "metadata": {
    "id": "VRkvJskKaSGT"
   },
   "source": [
    "# exclude future releases\n",
    "data_clean = data.drop(future_releases.index)"
   ],
   "execution_count": 23,
   "outputs": []
  },
  {
   "cell_type": "code",
   "metadata": {
    "id": "Utz7rgdHaYcn",
    "outputId": "66a16401-6cca-4de9-9e0e-cf00bb01546c",
    "colab": {
     "base_uri": "https://localhost:8080/",
     "height": 0
    }
   },
   "source": [
    "# difference is 7 rows\n",
    "data.shape[0] - data_clean.shape[0]"
   ],
   "execution_count": 24,
   "outputs": [
    {
     "data": {
      "text/plain": "7"
     },
     "execution_count": 24,
     "metadata": {},
     "output_type": "execute_result"
    }
   ]
  },
  {
   "cell_type": "markdown",
   "metadata": {
    "id": "khrJcXlGZWZO"
   },
   "source": [
    "### Films that Lost Money\n",
    "\n",
    "**Challenge**: \n",
    "What is the percentage of films where the production costs exceeded the worldwide gross revenue? "
   ]
  },
  {
   "cell_type": "code",
   "metadata": {
    "id": "b2i9pAtNZdtv",
    "outputId": "485c7d85-f0bd-447c-897a-38cd89d35f79",
    "colab": {
     "base_uri": "https://localhost:8080/",
     "height": 0
    }
   },
   "source": [
    "money_losing = data_clean.loc[data_clean.USD_Production_Budget > data_clean.USD_Worldwide_Gross]\n",
    "len(money_losing)/len(data_clean)"
   ],
   "execution_count": 25,
   "outputs": [
    {
     "data": {
      "text/plain": "0.37277117384843983"
     },
     "execution_count": 25,
     "metadata": {},
     "output_type": "execute_result"
    }
   ]
  },
  {
   "cell_type": "code",
   "metadata": {
    "id": "RwYI_6ypdOir",
    "outputId": "755bbcf6-7e1a-4a08-d361-d2b0f98fc01c",
    "colab": {
     "base_uri": "https://localhost:8080/",
     "height": 0
    }
   },
   "source": [
    "money_losing = data_clean.query('USD_Production_Budget > USD_Worldwide_Gross')\n",
    "money_losing.shape[0]/data_clean.shape[0]"
   ],
   "execution_count": 26,
   "outputs": [
    {
     "data": {
      "text/plain": "0.37277117384843983"
     },
     "execution_count": 26,
     "metadata": {},
     "output_type": "execute_result"
    }
   ]
  },
  {
   "cell_type": "markdown",
   "metadata": {
    "id": "cfJUL3WwyiDy"
   },
   "source": [
    "# Seaborn for Data Viz: Bubble Charts"
   ]
  },
  {
   "cell_type": "code",
   "metadata": {
    "id": "gw5Ia5JyynLM",
    "outputId": "ae02ff51-8f81-41fa-eb8f-a15853aa9f6d",
    "colab": {
     "base_uri": "https://localhost:8080/",
     "height": 506
    }
   },
   "source": [
    "plt.figure(figsize=(8,4), dpi=200)\n",
    "\n",
    "ax = sns.scatterplot(data=data_clean,\n",
    "                     x='USD_Production_Budget', \n",
    "                     y='USD_Worldwide_Gross')\n",
    "\n",
    "ax.set(ylim=(0, 3000000000),\n",
    "       xlim=(0, 450000000),\n",
    "       ylabel='Revenue in $ billions',\n",
    "       xlabel='Budget in $100 millions')\n",
    "\n",
    "plt.show()"
   ],
   "execution_count": 27,
   "outputs": [
    {
     "ename": "NameError",
     "evalue": "name 'sns' is not defined",
     "output_type": "error",
     "traceback": [
      "\u001B[0;31m---------------------------------------------------------------------------\u001B[0m",
      "\u001B[0;31mNameError\u001B[0m                                 Traceback (most recent call last)",
      "Input \u001B[0;32mIn [27]\u001B[0m, in \u001B[0;36m<cell line: 3>\u001B[0;34m()\u001B[0m\n\u001B[1;32m      1\u001B[0m plt\u001B[38;5;241m.\u001B[39mfigure(figsize\u001B[38;5;241m=\u001B[39m(\u001B[38;5;241m8\u001B[39m,\u001B[38;5;241m4\u001B[39m), dpi\u001B[38;5;241m=\u001B[39m\u001B[38;5;241m200\u001B[39m)\n\u001B[0;32m----> 3\u001B[0m ax \u001B[38;5;241m=\u001B[39m \u001B[43msns\u001B[49m\u001B[38;5;241m.\u001B[39mscatterplot(data\u001B[38;5;241m=\u001B[39mdata_clean,\n\u001B[1;32m      4\u001B[0m                      x\u001B[38;5;241m=\u001B[39m\u001B[38;5;124m'\u001B[39m\u001B[38;5;124mUSD_Production_Budget\u001B[39m\u001B[38;5;124m'\u001B[39m, \n\u001B[1;32m      5\u001B[0m                      y\u001B[38;5;241m=\u001B[39m\u001B[38;5;124m'\u001B[39m\u001B[38;5;124mUSD_Worldwide_Gross\u001B[39m\u001B[38;5;124m'\u001B[39m)\n\u001B[1;32m      7\u001B[0m ax\u001B[38;5;241m.\u001B[39mset(ylim\u001B[38;5;241m=\u001B[39m(\u001B[38;5;241m0\u001B[39m, \u001B[38;5;241m3000000000\u001B[39m),\n\u001B[1;32m      8\u001B[0m        xlim\u001B[38;5;241m=\u001B[39m(\u001B[38;5;241m0\u001B[39m, \u001B[38;5;241m450000000\u001B[39m),\n\u001B[1;32m      9\u001B[0m        ylabel\u001B[38;5;241m=\u001B[39m\u001B[38;5;124m'\u001B[39m\u001B[38;5;124mRevenue in $ billions\u001B[39m\u001B[38;5;124m'\u001B[39m,\n\u001B[1;32m     10\u001B[0m        xlabel\u001B[38;5;241m=\u001B[39m\u001B[38;5;124m'\u001B[39m\u001B[38;5;124mBudget in $100 millions\u001B[39m\u001B[38;5;124m'\u001B[39m)\n\u001B[1;32m     12\u001B[0m plt\u001B[38;5;241m.\u001B[39mshow()\n",
      "\u001B[0;31mNameError\u001B[0m: name 'sns' is not defined"
     ]
    },
    {
     "data": {
      "text/plain": "<Figure size 1600x800 with 0 Axes>"
     },
     "metadata": {},
     "output_type": "display_data"
    }
   ]
  },
  {
   "cell_type": "code",
   "metadata": {
    "id": "MBwBVmtnlTbi",
    "outputId": "f3a30a9d-3258-4154-fb25-e3d75d5cbb41",
    "colab": {
     "base_uri": "https://localhost:8080/",
     "height": 506
    }
   },
   "source": [
    "plt.figure(figsize=(8,4), dpi=200)\n",
    "ax = sns.scatterplot(data=data_clean,\n",
    "                     x='USD_Production_Budget', \n",
    "                     y='USD_Worldwide_Gross',\n",
    "                     hue='USD_Worldwide_Gross', # change colour\n",
    "                     size='USD_Worldwide_Gross',) # change size of dot\n",
    "\n",
    "ax.set(ylim=(0, 3000000000),\n",
    "       xlim=(0, 450000000),\n",
    "       ylabel='Revenue in $ billions',\n",
    "       xlabel='Budget in $100 millions',)\n",
    "\n",
    "plt.show()"
   ],
   "execution_count": null,
   "outputs": []
  },
  {
   "cell_type": "code",
   "metadata": {
    "id": "yfUuICcWmdPd",
    "outputId": "d4fa0bba-4bad-45ee-db05-d84cec90810d",
    "colab": {
     "base_uri": "https://localhost:8080/",
     "height": 506
    }
   },
   "source": [
    "plt.figure(figsize=(8,4), dpi=200)\n",
    "\n",
    "# set styling on a single chart\n",
    "with sns.axes_style('darkgrid'):\n",
    "  ax = sns.scatterplot(data=data_clean,\n",
    "                       x='USD_Production_Budget', \n",
    "                       y='USD_Worldwide_Gross',\n",
    "                       hue='USD_Worldwide_Gross',\n",
    "                       size='USD_Worldwide_Gross')\n",
    "\n",
    "  ax.set(ylim=(0, 3000000000),\n",
    "        xlim=(0, 450000000),\n",
    "        ylabel='Revenue in $ billions',\n",
    "        xlabel='Budget in $100 millions')"
   ],
   "execution_count": null,
   "outputs": []
  },
  {
   "cell_type": "markdown",
   "metadata": {
    "id": "e7NIOiL2y3en"
   },
   "source": [
    "### Plotting Movie Releases over Time\n",
    "\n",
    "**Challenge**: Try to create the following Bubble Chart:\n",
    "\n",
    "<img src=https://i.imgur.com/8fUn9T6.png>\n",
    "\n"
   ]
  },
  {
   "cell_type": "code",
   "metadata": {
    "id": "s6He_8uKy6ae",
    "outputId": "b326ff59-aa03-4f9d-df96-accc6f4db594",
    "colab": {
     "base_uri": "https://localhost:8080/",
     "height": 0
    }
   },
   "source": [
    "plt.figure(figsize=(8,4), dpi=200)\n",
    "\n",
    "with sns.axes_style(\"darkgrid\"):\n",
    "    ax = sns.scatterplot(data=data_clean, \n",
    "                    x='Release_Date', \n",
    "                    y='USD_Production_Budget',\n",
    "                    hue='USD_Worldwide_Gross',\n",
    "                    size='USD_Worldwide_Gross',)\n",
    "\n",
    "    ax.set(ylim=(0, 450000000),\n",
    "           xlim=(data_clean.Release_Date.min(), data_clean.Release_Date.max()),\n",
    "           xlabel='Year',\n",
    "           ylabel='Budget in $100 millions')\n"
   ],
   "execution_count": null,
   "outputs": []
  },
  {
   "cell_type": "markdown",
   "metadata": {
    "id": "r_2hFz9py84b"
   },
   "source": [
    "# Converting Years to Decades Trick\n",
    "\n",
    "**Challenge**: Create a column in `data_clean` that has the decade of the release. \n",
    "\n",
    "<img src=https://i.imgur.com/0VEfagw.png width=650> \n",
    "\n",
    "Here's how: \n",
    "1. Create a [`DatetimeIndex` object](https://pandas.pydata.org/pandas-docs/stable/reference/api/pandas.DatetimeIndex.html) from the Release_Date column. \n",
    "2. Grab all the years from the `DatetimeIndex` object using the `.year` property.\n",
    "<img src=https://i.imgur.com/5m06Ach.png width=650>\n",
    "3. Use floor division `//` to convert the year data to the decades of the films.\n",
    "4. Add the decades as a `Decade` column to the `data_clean` DataFrame."
   ]
  },
  {
   "cell_type": "code",
   "metadata": {
    "id": "yrFzFBGgzGDX"
   },
   "source": [
    "dt_index = pd.DatetimeIndex(data_clean.Release_Date)\n",
    "years = dt_index.year"
   ],
   "execution_count": null,
   "outputs": []
  },
  {
   "cell_type": "code",
   "metadata": {
    "id": "dKzZJ4kDGA2V",
    "outputId": "3b29397c-f64a-43ae-cfcd-63dfb19626da",
    "colab": {
     "base_uri": "https://localhost:8080/",
     "height": 34
    }
   },
   "source": [
    "# How to convert the year 1999 to the 90s decade\n",
    "1999//10"
   ],
   "execution_count": null,
   "outputs": []
  },
  {
   "cell_type": "code",
   "metadata": {
    "id": "zR3keN9LGEFm",
    "outputId": "81c72ce2-f244-49b2-e6db-c5174c0245ab",
    "colab": {
     "base_uri": "https://localhost:8080/",
     "height": 34
    }
   },
   "source": [
    "199*10"
   ],
   "execution_count": null,
   "outputs": []
  },
  {
   "cell_type": "code",
   "metadata": {
    "id": "yW1dHfFX8VzU"
   },
   "source": [
    "decades = years//10*10\n",
    "data_clean['Decade'] = decades"
   ],
   "execution_count": null,
   "outputs": []
  },
  {
   "cell_type": "markdown",
   "metadata": {
    "id": "q-X7NK_9zIz9"
   },
   "source": [
    "### Separate the \"old\" (before 1969) and \"New\" (1970s onwards) Films\n",
    "\n",
    "**Challenge**: Create two new DataFrames: `old_films` and `new_films`\n",
    "* `old_films` should include all the films before 1969 (up to and including 1969)\n",
    "* `new_films` should include all the films from 1970 onwards\n",
    "* How many films were released prior to 1970?\n",
    "* What was the most expensive film made prior to 1970?"
   ]
  },
  {
   "cell_type": "code",
   "metadata": {
    "id": "cP6B3b3KzT7U"
   },
   "source": [
    "old_films = data_clean[data_clean.Decade <= 1960]\n",
    "new_films = data_clean[data_clean.Decade > 1960]"
   ],
   "execution_count": null,
   "outputs": []
  },
  {
   "cell_type": "code",
   "metadata": {
    "id": "EJ4kzzOwJjWI",
    "outputId": "3ba66f0a-2ef5-4feb-d1c6-200962c74c5e",
    "colab": {
     "base_uri": "https://localhost:8080/",
     "height": 297
    }
   },
   "source": [
    "old_films.describe()"
   ],
   "execution_count": null,
   "outputs": []
  },
  {
   "cell_type": "code",
   "metadata": {
    "id": "IASLRt5NJnmq",
    "outputId": "5469d8d4-8df6-40b6-ea15-07781579f2a1",
    "colab": {
     "base_uri": "https://localhost:8080/",
     "height": 258
    }
   },
   "source": [
    "old_films.sort_values('USD_Production_Budget', ascending=False).head()"
   ],
   "execution_count": null,
   "outputs": []
  },
  {
   "cell_type": "markdown",
   "metadata": {
    "id": "msXABzF3zW7e"
   },
   "source": [
    "# Seaborn Regression Plots"
   ]
  },
  {
   "cell_type": "code",
   "metadata": {
    "id": "rmphtU_BN_k8",
    "outputId": "bf34f47c-5c04-4d6d-ca8a-a7a3651ed373",
    "colab": {
     "base_uri": "https://localhost:8080/",
     "height": 308
    }
   },
   "source": [
    "sns.regplot(data=old_films, \n",
    "            x='USD_Production_Budget',\n",
    "            y='USD_Worldwide_Gross')"
   ],
   "execution_count": null,
   "outputs": []
  },
  {
   "cell_type": "code",
   "metadata": {
    "id": "cIM94YWxzjYK",
    "outputId": "9ec3badb-b28c-452e-b38e-780632f6ab9f",
    "colab": {
     "base_uri": "https://localhost:8080/",
     "height": 514
    }
   },
   "source": [
    "plt.figure(figsize=(8,4), dpi=200)\n",
    "with sns.axes_style(\"whitegrid\"):\n",
    "  sns.regplot(data=old_films, \n",
    "            x='USD_Production_Budget', \n",
    "            y='USD_Worldwide_Gross',\n",
    "            scatter_kws = {'alpha': 0.4},\n",
    "            line_kws = {'color': 'black'})"
   ],
   "execution_count": null,
   "outputs": []
  },
  {
   "cell_type": "markdown",
   "metadata": {
    "id": "6k4MeLmxWFwX"
   },
   "source": [
    "**Challenge**: Use Seaborn's `.regplot()` to show the scatter plot and linear regression line against the `new_films`. \n",
    "<br>\n",
    "<br>\n",
    "Style the chart\n",
    "\n",
    "* Put the chart on a `'darkgrid'`.\n",
    "* Set limits on the axes so that they don't show negative values.\n",
    "* Label the axes on the plot \"Revenue in \\$ billions\" and \"Budget in \\$ millions\".\n",
    "* Provide HEX colour codes for the plot and the regression line. Make the dots dark blue (#2f4b7c) and the line orange (#ff7c43).\n",
    "\n",
    "Interpret the chart\n",
    "\n",
    "* Do our data points for the new films align better or worse with the linear regression than for our older films?\n",
    "* Roughly how much would a film with a budget of $150 million make according to the regression line?"
   ]
  },
  {
   "cell_type": "code",
   "metadata": {
    "id": "VoVnuJBFRVLf",
    "outputId": "95666574-dbbc-42b1-fdb4-3c1049cfd8ba",
    "colab": {
     "base_uri": "https://localhost:8080/",
     "height": 506
    }
   },
   "source": [
    "plt.figure(figsize=(8,4), dpi=200)\n",
    "with sns.axes_style('darkgrid'):\n",
    "  ax = sns.regplot(data=new_films,\n",
    "                   x='USD_Production_Budget',\n",
    "                   y='USD_Worldwide_Gross',\n",
    "                   color='#2f4b7c',\n",
    "                   scatter_kws = {'alpha': 0.3},\n",
    "                   line_kws = {'color': '#ff7c43'})\n",
    "  \n",
    "  ax.set(ylim=(0, 3000000000),\n",
    "         xlim=(0, 450000000),\n",
    "         ylabel='Revenue in $ billions',\n",
    "         xlabel='Budget in $100 millions')"
   ],
   "execution_count": null,
   "outputs": []
  },
  {
   "cell_type": "markdown",
   "metadata": {
    "id": "Q1SUPPMAzlVK"
   },
   "source": [
    "# Run Your Own Regression with scikit-learn\n",
    "\n",
    "Our Linear Model:\n",
    "\n",
    "$$ REV \\hat ENUE = \\theta _0 + \\theta _1 BUDGET$$"
   ]
  },
  {
   "cell_type": "code",
   "metadata": {
    "id": "KBmqA2atz3bG"
   },
   "source": [
    "# Create regression object\n",
    "regression = LinearRegression()"
   ],
   "execution_count": 30,
   "outputs": []
  },
  {
   "cell_type": "code",
   "metadata": {
    "id": "F4ETyfUqJWnv"
   },
   "source": [
    "# Explanatory Variable(s) or Feature(s)\n",
    "X = pd.DataFrame(new_films, columns=['USD_Production_Budget'])\n",
    "\n",
    "# Response Variable or Target\n",
    "y = pd.DataFrame(new_films, columns=['USD_Worldwide_Gross'])"
   ],
   "execution_count": 31,
   "outputs": [
    {
     "ename": "NameError",
     "evalue": "name 'new_films' is not defined",
     "output_type": "error",
     "traceback": [
      "\u001B[0;31m---------------------------------------------------------------------------\u001B[0m",
      "\u001B[0;31mNameError\u001B[0m                                 Traceback (most recent call last)",
      "Input \u001B[0;32mIn [31]\u001B[0m, in \u001B[0;36m<cell line: 2>\u001B[0;34m()\u001B[0m\n\u001B[1;32m      1\u001B[0m \u001B[38;5;66;03m# Explanatory Variable(s) or Feature(s)\u001B[39;00m\n\u001B[0;32m----> 2\u001B[0m X \u001B[38;5;241m=\u001B[39m pd\u001B[38;5;241m.\u001B[39mDataFrame(\u001B[43mnew_films\u001B[49m, columns\u001B[38;5;241m=\u001B[39m[\u001B[38;5;124m'\u001B[39m\u001B[38;5;124mUSD_Production_Budget\u001B[39m\u001B[38;5;124m'\u001B[39m])\n\u001B[1;32m      4\u001B[0m \u001B[38;5;66;03m# Response Variable or Target\u001B[39;00m\n\u001B[1;32m      5\u001B[0m y \u001B[38;5;241m=\u001B[39m pd\u001B[38;5;241m.\u001B[39mDataFrame(new_films, columns\u001B[38;5;241m=\u001B[39m[\u001B[38;5;124m'\u001B[39m\u001B[38;5;124mUSD_Worldwide_Gross\u001B[39m\u001B[38;5;124m'\u001B[39m])\n",
      "\u001B[0;31mNameError\u001B[0m: name 'new_films' is not defined"
     ]
    }
   ]
  },
  {
   "cell_type": "code",
   "metadata": {
    "id": "fNA3b0qQKWNI",
    "outputId": "7788d69c-23c6-4429-eaff-31df80cd9618",
    "colab": {
     "base_uri": "https://localhost:8080/",
     "height": 34
    }
   },
   "source": [
    "# Find the best-fit line\n",
    "regression.fit(X, y)"
   ],
   "execution_count": null,
   "outputs": []
  },
  {
   "cell_type": "code",
   "metadata": {
    "id": "lcsgGhlNK_m4",
    "outputId": "e3cbf387-3a1c-4d0c-de12-d2858e76f72c",
    "colab": {
     "base_uri": "https://localhost:8080/",
     "height": 34
    }
   },
   "source": [
    "# Theta zero\n",
    "regression.intercept_"
   ],
   "execution_count": null,
   "outputs": []
  },
  {
   "cell_type": "code",
   "metadata": {
    "id": "5oHziESRLPQX",
    "outputId": "0da31c83-15b3-424c-9aec-8c26004a3bd1",
    "colab": {
     "base_uri": "https://localhost:8080/",
     "height": 34
    }
   },
   "source": [
    "# Theta one\n",
    "regression.coef_"
   ],
   "execution_count": null,
   "outputs": []
  },
  {
   "cell_type": "code",
   "metadata": {
    "id": "T945GX05LSov",
    "outputId": "6a475c5c-14d7-4563-adec-ed1bea72f1c4",
    "colab": {
     "base_uri": "https://localhost:8080/",
     "height": 34
    }
   },
   "source": [
    "# R-squared\n",
    "regression.score(X, y)"
   ],
   "execution_count": null,
   "outputs": []
  },
  {
   "cell_type": "markdown",
   "metadata": {
    "id": "o23E9iT1RHQ1"
   },
   "source": [
    "**Challenge**: Run a linear regression for the `old_films`. Calculate the intercept, slope and r-squared. How much of the variance in movie revenue does the linear model explain in this case?"
   ]
  },
  {
   "cell_type": "code",
   "metadata": {
    "id": "pQrh6TMxOuDj",
    "outputId": "bfdd0e2e-d409-43b9-985b-27cb3f7672d9",
    "colab": {
     "base_uri": "https://localhost:8080/",
     "height": 68
    }
   },
   "source": [
    "X = pd.DataFrame(old_films, columns=['USD_Production_Budget'])\n",
    "y = pd.DataFrame(old_films, columns=['USD_Worldwide_Gross'])\n",
    "regression.fit(X, y)\n",
    "print(f'The slope coefficient is: {regression.coef_[0]}')\n",
    "print(f'The intercept is: {regression.intercept_[0]}')\n",
    "print(f'The r-squared is: {regression.score(X, y)}')"
   ],
   "execution_count": null,
   "outputs": []
  },
  {
   "cell_type": "markdown",
   "metadata": {
    "id": "QFqKezSf0EVv"
   },
   "source": [
    "# Use Your Model to Make a Prediction\n",
    "\n",
    "We just estimated the slope and intercept! Remember that our Linear Model has the following form:\n",
    "\n",
    "$$ REV \\hat ENUE = \\theta _0 + \\theta _1 BUDGET$$\n",
    "\n",
    "**Challenge**:  How much global revenue does our model estimate for a film with a budget of $350 million? "
   ]
  },
  {
   "cell_type": "code",
   "metadata": {
    "id": "lo4WSVka2txp",
    "outputId": "196fdeba-9962-431e-a3ef-77d2c1731663",
    "colab": {
     "base_uri": "https://localhost:8080/",
     "height": 34
    }
   },
   "source": [
    "22821538 + 1.64771314 * 350000000"
   ],
   "execution_count": null,
   "outputs": []
  },
  {
   "cell_type": "code",
   "metadata": {
    "id": "ygKsLBx5Rs7t",
    "outputId": "8e0fa2d8-992b-4d0a-9aa8-479360640b56",
    "colab": {
     "base_uri": "https://localhost:8080/",
     "height": 34
    }
   },
   "source": [
    "budget = 350000000\n",
    "revenue_estimate = regression.intercept_[0] + regression.coef_[0,0]*budget\n",
    "revenue_estimate = round(revenue_estimate, -6)\n",
    "print(f'The estimated revenue for a $350 film is around ${revenue_estimate:.10}.')"
   ],
   "execution_count": null,
   "outputs": []
  },
  {
   "cell_type": "code",
   "metadata": {
    "id": "2PoCVPPp5EVD"
   },
   "source": [
    ""
   ],
   "execution_count": null,
   "outputs": []
  }
 ]
}