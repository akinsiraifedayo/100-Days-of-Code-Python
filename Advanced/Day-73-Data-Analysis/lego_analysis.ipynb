{
 "nbformat": 4,
 "nbformat_minor": 0,
 "metadata": {
  "kernelspec": {
   "display_name": "Python 3",
   "language": "python",
   "name": "python3"
  },
  "language_info": {
   "codemirror_mode": {
    "name": "ipython",
    "version": 3
   },
   "file_extension": ".py",
   "mimetype": "text/x-python",
   "name": "python",
   "nbconvert_exporter": "python",
   "pygments_lexer": "ipython3",
   "version": "3.7.3"
  },
  "colab": {
   "name": "Lego Analysis for Course (start).ipynb",
   "provenance": []
  }
 },
 "cells": [
  {
   "cell_type": "markdown",
   "metadata": {
    "dc": {
     "key": "1d0b086e6c"
    },
    "run_control": {
     "frozen": true
    },
    "tags": [
     "context"
    ],
    "id": "s9JLDE8NIquP",
    "colab_type": "text"
   },
   "source": [
    "# Introduction\n",
    "\n",
    "Today we'll dive deep into a dataset all about LEGO. From the dataset we can ask whole bunch of interesting questions about the history of the LEGO company, their product offering, and which LEGO set ultimately rules them all:\n",
    "\n",
    "<ul type=\"square\">\n",
    "<li>What is the most enormous LEGO set ever created and how many parts did it have?</li>\n",
    "\n",
    "<li>How did the LEGO company start out? In which year were the first LEGO sets released and how many sets did the company sell when it first launched?</li>\n",
    "\n",
    "<li>Which LEGO theme has the most sets? Is it one of LEGO's own themes like Ninjago or a theme they licensed liked Harry Potter or Marvel Superheroes?</li>\n",
    "\n",
    "<li>When did the LEGO company really expand its product offering? Can we spot a change in the company strategy based on how many themes and sets did it released year-on-year?</li>\n",
    "\n",
    "<li>Did LEGO sets grow in size and complexity over time? Do older LEGO \n",
    "sets tend to have more or fewer parts than newer sets?</li>\n",
    "</ul>\n",
    "\n",
    "**Data Source**\n",
    "\n",
    "[Rebrickable](https://rebrickable.com/downloads/) has compiled data on all the LEGO pieces in existence. I recommend you use download the .csv files provided in this lesson. "
   ]
  },
  {
   "cell_type": "markdown",
   "source": [
    "<img src=\"https://i.imgur.com/49FNOHj.jpg\">\n",
    "<img src=\"assets/bricks.jpg\">"
   ],
   "metadata": {
    "collapsed": false,
    "pycharm": {
     "name": "#%% md\n"
    }
   }
  },
  {
   "cell_type": "markdown",
   "metadata": {
    "id": "V0u2lGJuIquQ",
    "colab_type": "text"
   },
   "source": [
    "# Import Statements"
   ]
  },
  {
   "cell_type": "code",
   "metadata": {
    "id": "z5Wk7rs-IquQ",
    "colab_type": "code",
    "colab": {}
   },
   "source": [
    "import pandas as pd\n",
    "import matplotlib.pyplot as plt"
   ],
   "execution_count": 32,
   "outputs": []
  },
  {
   "cell_type": "markdown",
   "metadata": {
    "id": "R5NQpJ_KIquT",
    "colab_type": "text"
   },
   "source": [
    "# Data Exploration"
   ]
  },
  {
   "cell_type": "markdown",
   "metadata": {
    "dc": {
     "key": "044b2cef41"
    },
    "run_control": {
     "frozen": true
    },
    "tags": [
     "context"
    ],
    "id": "ffaG-UFYIquT",
    "colab_type": "text"
   },
   "source": [
    "**Challenge**: How many different colours does the LEGO company produce? Read the colors.csv file in the data folder and find the total number of unique colours. Try using the [.nunique() method](https://pandas.pydata.org/pandas-docs/stable/reference/api/pandas.DataFrame.nunique.html?highlight=nunique#pandas.DataFrame.nunique) to accomplish this."
   ]
  },
  {
   "cell_type": "code",
   "metadata": {
    "id": "yd4G9pK7IquU",
    "colab_type": "code",
    "colab": {}
   },
   "source": [
    "lego_colors_df = pd.read_csv('data/colors.csv')\n",
    "lego_colors_df.head()"
   ],
   "execution_count": 8,
   "outputs": [
    {
     "data": {
      "text/plain": "   id            name     rgb is_trans\n0  -1         Unknown  0033B2        f\n1   0           Black  05131D        f\n2   1            Blue  0055BF        f\n3   2           Green  237841        f\n4   3  Dark Turquoise  008F9B        f",
      "text/html": "<div>\n<style scoped>\n    .dataframe tbody tr th:only-of-type {\n        vertical-align: middle;\n    }\n\n    .dataframe tbody tr th {\n        vertical-align: top;\n    }\n\n    .dataframe thead th {\n        text-align: right;\n    }\n</style>\n<table border=\"1\" class=\"dataframe\">\n  <thead>\n    <tr style=\"text-align: right;\">\n      <th></th>\n      <th>id</th>\n      <th>name</th>\n      <th>rgb</th>\n      <th>is_trans</th>\n    </tr>\n  </thead>\n  <tbody>\n    <tr>\n      <th>0</th>\n      <td>-1</td>\n      <td>Unknown</td>\n      <td>0033B2</td>\n      <td>f</td>\n    </tr>\n    <tr>\n      <th>1</th>\n      <td>0</td>\n      <td>Black</td>\n      <td>05131D</td>\n      <td>f</td>\n    </tr>\n    <tr>\n      <th>2</th>\n      <td>1</td>\n      <td>Blue</td>\n      <td>0055BF</td>\n      <td>f</td>\n    </tr>\n    <tr>\n      <th>3</th>\n      <td>2</td>\n      <td>Green</td>\n      <td>237841</td>\n      <td>f</td>\n    </tr>\n    <tr>\n      <th>4</th>\n      <td>3</td>\n      <td>Dark Turquoise</td>\n      <td>008F9B</td>\n      <td>f</td>\n    </tr>\n  </tbody>\n</table>\n</div>"
     },
     "execution_count": 8,
     "metadata": {},
     "output_type": "execute_result"
    }
   ]
  },
  {
   "cell_type": "code",
   "metadata": {
    "dc": {
     "key": "044b2cef41"
    },
    "tags": [
     "sample_code"
    ],
    "id": "QmbAXax7IquW",
    "colab_type": "code",
    "colab": {}
   },
   "source": [
    "color_count = lego_colors_df['name'].nunique()\n",
    "print(color_count)"
   ],
   "execution_count": 13,
   "outputs": [
    {
     "name": "stdout",
     "output_type": "stream",
     "text": [
      "135\n"
     ]
    }
   ]
  },
  {
   "cell_type": "markdown",
   "metadata": {
    "dc": {
     "key": "a5723ae5c2"
    },
    "run_control": {
     "frozen": true
    },
    "tags": [
     "context"
    ],
    "id": "PItRbqgcIqua",
    "colab_type": "text"
   },
   "source": [
    "**Challenge**: Find the number of transparent colours where <code>is_trans == 't'</code> versus the number of opaque colours where <code>is_trans == 'f'</code>. See if you can accomplish this in two different ways."
   ]
  },
  {
   "cell_type": "code",
   "metadata": {
    "id": "1UZrfq82Iqub",
    "colab_type": "code",
    "colab": {}
   },
   "source": [
    "lego_colors_df.groupby('is_trans').count()"
   ],
   "execution_count": 14,
   "outputs": [
    {
     "data": {
      "text/plain": "           id  name  rgb\nis_trans                \nf         107   107  107\nt          28    28   28",
      "text/html": "<div>\n<style scoped>\n    .dataframe tbody tr th:only-of-type {\n        vertical-align: middle;\n    }\n\n    .dataframe tbody tr th {\n        vertical-align: top;\n    }\n\n    .dataframe thead th {\n        text-align: right;\n    }\n</style>\n<table border=\"1\" class=\"dataframe\">\n  <thead>\n    <tr style=\"text-align: right;\">\n      <th></th>\n      <th>id</th>\n      <th>name</th>\n      <th>rgb</th>\n    </tr>\n    <tr>\n      <th>is_trans</th>\n      <th></th>\n      <th></th>\n      <th></th>\n    </tr>\n  </thead>\n  <tbody>\n    <tr>\n      <th>f</th>\n      <td>107</td>\n      <td>107</td>\n      <td>107</td>\n    </tr>\n    <tr>\n      <th>t</th>\n      <td>28</td>\n      <td>28</td>\n      <td>28</td>\n    </tr>\n  </tbody>\n</table>\n</div>"
     },
     "execution_count": 14,
     "metadata": {},
     "output_type": "execute_result"
    }
   ]
  },
  {
   "cell_type": "markdown",
   "metadata": {
    "id": "TMqdhUYcusfy",
    "colab_type": "text"
   },
   "source": [
    "<h3>Understanding LEGO Themes vs. LEGO Sets</h3>"
   ]
  },
  {
   "cell_type": "markdown",
   "metadata": {
    "id": "y0kxCh63uwOv",
    "colab_type": "text"
   },
   "source": [
    "Walk into a LEGO store and you will see their products organised by theme. Their themes include Star Wars, Batman, Harry Potter and many more.\n",
    "\n",
    "<img src=\"https://i.imgur.com/aKcwkSx.png\">\n"
   ]
  },
  {
   "cell_type": "markdown",
   "metadata": {
    "dc": {
     "key": "c9d0e58653"
    },
    "run_control": {
     "frozen": true
    },
    "tags": [
     "context"
    ],
    "id": "u_xkZUF8Iqug",
    "colab_type": "text"
   },
   "source": [
    "A lego set is a particular box of LEGO or product. Therefore, a single theme typically has many different sets.\n",
    "\n",
    "<img src=\"https://i.imgur.com/whB1olq.png \">"
   ]
  },
  {
   "cell_type": "markdown",
   "metadata": {
    "colab_type": "text",
    "id": "jJTAROe5unkx"
   },
   "source": [
    "The <code>sets.csv</code> data contains a list of sets over the years and the number of parts that each of these sets contained.\n",
    "\n",
    "**Challenge**: Read the sets.csv data and take a look at the first and last couple of rows. "
   ]
  },
  {
   "cell_type": "code",
   "metadata": {
    "id": "vGMOv-NRIquh",
    "colab_type": "code",
    "colab": {}
   },
   "source": [
    "lego_sets_df = pd.read_csv('data/sets.csv')\n",
    "lego_sets_df.head()"
   ],
   "execution_count": 15,
   "outputs": [
    {
     "data": {
      "text/plain": "  set_num                        name  year  theme_id  num_parts\n0   001-1                       Gears  1965         1         43\n1  0011-2           Town Mini-Figures  1978        84         12\n2  0011-3  Castle 2 for 1 Bonus Offer  1987       199          0\n3  0012-1          Space Mini-Figures  1979       143         12\n4  0013-1          Space Mini-Figures  1979       143         12",
      "text/html": "<div>\n<style scoped>\n    .dataframe tbody tr th:only-of-type {\n        vertical-align: middle;\n    }\n\n    .dataframe tbody tr th {\n        vertical-align: top;\n    }\n\n    .dataframe thead th {\n        text-align: right;\n    }\n</style>\n<table border=\"1\" class=\"dataframe\">\n  <thead>\n    <tr style=\"text-align: right;\">\n      <th></th>\n      <th>set_num</th>\n      <th>name</th>\n      <th>year</th>\n      <th>theme_id</th>\n      <th>num_parts</th>\n    </tr>\n  </thead>\n  <tbody>\n    <tr>\n      <th>0</th>\n      <td>001-1</td>\n      <td>Gears</td>\n      <td>1965</td>\n      <td>1</td>\n      <td>43</td>\n    </tr>\n    <tr>\n      <th>1</th>\n      <td>0011-2</td>\n      <td>Town Mini-Figures</td>\n      <td>1978</td>\n      <td>84</td>\n      <td>12</td>\n    </tr>\n    <tr>\n      <th>2</th>\n      <td>0011-3</td>\n      <td>Castle 2 for 1 Bonus Offer</td>\n      <td>1987</td>\n      <td>199</td>\n      <td>0</td>\n    </tr>\n    <tr>\n      <th>3</th>\n      <td>0012-1</td>\n      <td>Space Mini-Figures</td>\n      <td>1979</td>\n      <td>143</td>\n      <td>12</td>\n    </tr>\n    <tr>\n      <th>4</th>\n      <td>0013-1</td>\n      <td>Space Mini-Figures</td>\n      <td>1979</td>\n      <td>143</td>\n      <td>12</td>\n    </tr>\n  </tbody>\n</table>\n</div>"
     },
     "execution_count": 15,
     "metadata": {},
     "output_type": "execute_result"
    }
   ]
  },
  {
   "cell_type": "markdown",
   "metadata": {
    "id": "ez-UXSMUIqum",
    "colab_type": "text"
   },
   "source": [
    "**Challenge**: In which year were the first LEGO sets released and what were these sets called?"
   ]
  },
  {
   "cell_type": "code",
   "metadata": {
    "id": "s2aL6qrGIqum",
    "colab_type": "code",
    "colab": {}
   },
   "source": [
    "lego_sets_df.sort_values('year').head()"
   ],
   "execution_count": 21,
   "outputs": [
    {
     "data": {
      "text/plain": "      set_num                               name  year  theme_id  num_parts\n9521  700.1-1         Extra-Large Gift Set (ABB)  1949       365        142\n9534  700.2-1               Large Gift Set (ABB)  1949       365        178\n9539  700.3-1              Medium Gift Set (ABB)  1949       365        142\n9544  700.A-1              Small Brick Set (ABB)  1949       371         24\n9545  700.B-1  Small Doors and Windows Set (ABB)  1949       371         12",
      "text/html": "<div>\n<style scoped>\n    .dataframe tbody tr th:only-of-type {\n        vertical-align: middle;\n    }\n\n    .dataframe tbody tr th {\n        vertical-align: top;\n    }\n\n    .dataframe thead th {\n        text-align: right;\n    }\n</style>\n<table border=\"1\" class=\"dataframe\">\n  <thead>\n    <tr style=\"text-align: right;\">\n      <th></th>\n      <th>set_num</th>\n      <th>name</th>\n      <th>year</th>\n      <th>theme_id</th>\n      <th>num_parts</th>\n    </tr>\n  </thead>\n  <tbody>\n    <tr>\n      <th>9521</th>\n      <td>700.1-1</td>\n      <td>Extra-Large Gift Set (ABB)</td>\n      <td>1949</td>\n      <td>365</td>\n      <td>142</td>\n    </tr>\n    <tr>\n      <th>9534</th>\n      <td>700.2-1</td>\n      <td>Large Gift Set (ABB)</td>\n      <td>1949</td>\n      <td>365</td>\n      <td>178</td>\n    </tr>\n    <tr>\n      <th>9539</th>\n      <td>700.3-1</td>\n      <td>Medium Gift Set (ABB)</td>\n      <td>1949</td>\n      <td>365</td>\n      <td>142</td>\n    </tr>\n    <tr>\n      <th>9544</th>\n      <td>700.A-1</td>\n      <td>Small Brick Set (ABB)</td>\n      <td>1949</td>\n      <td>371</td>\n      <td>24</td>\n    </tr>\n    <tr>\n      <th>9545</th>\n      <td>700.B-1</td>\n      <td>Small Doors and Windows Set (ABB)</td>\n      <td>1949</td>\n      <td>371</td>\n      <td>12</td>\n    </tr>\n  </tbody>\n</table>\n</div>"
     },
     "execution_count": 21,
     "metadata": {},
     "output_type": "execute_result"
    }
   ]
  },
  {
   "cell_type": "markdown",
   "metadata": {
    "id": "JJoK3M8TBAVU",
    "colab_type": "text"
   },
   "source": [
    "**Challenge**: How many different sets did LEGO sell in their first year? How many types of LEGO products were on offer in the year the company started?"
   ]
  },
  {
   "cell_type": "code",
   "metadata": {
    "id": "h-Tf1w7IBBg9",
    "colab_type": "code",
    "colab": {}
   },
   "source": [
    "lego_sets_df[lego_sets_df['year']==1949]"
   ],
   "execution_count": 22,
   "outputs": [
    {
     "data": {
      "text/plain": "      set_num                               name  year  theme_id  num_parts\n9521  700.1-1         Extra-Large Gift Set (ABB)  1949       365        142\n9534  700.2-1               Large Gift Set (ABB)  1949       365        178\n9539  700.3-1              Medium Gift Set (ABB)  1949       365        142\n9544  700.A-1              Small Brick Set (ABB)  1949       371         24\n9545  700.B-1  Small Doors and Windows Set (ABB)  1949       371         12",
      "text/html": "<div>\n<style scoped>\n    .dataframe tbody tr th:only-of-type {\n        vertical-align: middle;\n    }\n\n    .dataframe tbody tr th {\n        vertical-align: top;\n    }\n\n    .dataframe thead th {\n        text-align: right;\n    }\n</style>\n<table border=\"1\" class=\"dataframe\">\n  <thead>\n    <tr style=\"text-align: right;\">\n      <th></th>\n      <th>set_num</th>\n      <th>name</th>\n      <th>year</th>\n      <th>theme_id</th>\n      <th>num_parts</th>\n    </tr>\n  </thead>\n  <tbody>\n    <tr>\n      <th>9521</th>\n      <td>700.1-1</td>\n      <td>Extra-Large Gift Set (ABB)</td>\n      <td>1949</td>\n      <td>365</td>\n      <td>142</td>\n    </tr>\n    <tr>\n      <th>9534</th>\n      <td>700.2-1</td>\n      <td>Large Gift Set (ABB)</td>\n      <td>1949</td>\n      <td>365</td>\n      <td>178</td>\n    </tr>\n    <tr>\n      <th>9539</th>\n      <td>700.3-1</td>\n      <td>Medium Gift Set (ABB)</td>\n      <td>1949</td>\n      <td>365</td>\n      <td>142</td>\n    </tr>\n    <tr>\n      <th>9544</th>\n      <td>700.A-1</td>\n      <td>Small Brick Set (ABB)</td>\n      <td>1949</td>\n      <td>371</td>\n      <td>24</td>\n    </tr>\n    <tr>\n      <th>9545</th>\n      <td>700.B-1</td>\n      <td>Small Doors and Windows Set (ABB)</td>\n      <td>1949</td>\n      <td>371</td>\n      <td>12</td>\n    </tr>\n  </tbody>\n</table>\n</div>"
     },
     "execution_count": 22,
     "metadata": {},
     "output_type": "execute_result"
    }
   ]
  },
  {
   "cell_type": "markdown",
   "metadata": {
    "id": "RJMMYQYqIquo",
    "colab_type": "text"
   },
   "source": [
    "**Challenge**: Find the top 5 LEGO sets with the most number of parts. "
   ]
  },
  {
   "cell_type": "code",
   "metadata": {
    "id": "toJvjRuQIqup",
    "colab_type": "code",
    "colab": {}
   },
   "source": [
    "lego_sets_df.sort_values('num_parts', ascending=False).head()"
   ],
   "execution_count": 24,
   "outputs": [
    {
     "data": {
      "text/plain": "        set_num                           name  year  theme_id  num_parts\n15004  BIGBOX-1  The Ultimate Battle for Chima  2015       571       9987\n11183   75192-1          UCS Millennium Falcon  2017       171       7541\n10551   71043-1                Hogwarts Castle  2018       246       6020\n295     10256-1                      Taj Mahal  2017       673       5923\n221     10189-1                      Taj Mahal  2008       673       5922",
      "text/html": "<div>\n<style scoped>\n    .dataframe tbody tr th:only-of-type {\n        vertical-align: middle;\n    }\n\n    .dataframe tbody tr th {\n        vertical-align: top;\n    }\n\n    .dataframe thead th {\n        text-align: right;\n    }\n</style>\n<table border=\"1\" class=\"dataframe\">\n  <thead>\n    <tr style=\"text-align: right;\">\n      <th></th>\n      <th>set_num</th>\n      <th>name</th>\n      <th>year</th>\n      <th>theme_id</th>\n      <th>num_parts</th>\n    </tr>\n  </thead>\n  <tbody>\n    <tr>\n      <th>15004</th>\n      <td>BIGBOX-1</td>\n      <td>The Ultimate Battle for Chima</td>\n      <td>2015</td>\n      <td>571</td>\n      <td>9987</td>\n    </tr>\n    <tr>\n      <th>11183</th>\n      <td>75192-1</td>\n      <td>UCS Millennium Falcon</td>\n      <td>2017</td>\n      <td>171</td>\n      <td>7541</td>\n    </tr>\n    <tr>\n      <th>10551</th>\n      <td>71043-1</td>\n      <td>Hogwarts Castle</td>\n      <td>2018</td>\n      <td>246</td>\n      <td>6020</td>\n    </tr>\n    <tr>\n      <th>295</th>\n      <td>10256-1</td>\n      <td>Taj Mahal</td>\n      <td>2017</td>\n      <td>673</td>\n      <td>5923</td>\n    </tr>\n    <tr>\n      <th>221</th>\n      <td>10189-1</td>\n      <td>Taj Mahal</td>\n      <td>2008</td>\n      <td>673</td>\n      <td>5922</td>\n    </tr>\n  </tbody>\n</table>\n</div>"
     },
     "execution_count": 24,
     "metadata": {},
     "output_type": "execute_result"
    }
   ]
  },
  {
   "cell_type": "markdown",
   "metadata": {
    "id": "uSyhOzAHIqur",
    "colab_type": "text"
   },
   "source": [
    "**Challenge**: Use <code>.groupby()</code> and <code>.count()</code> to show the number of LEGO sets released year-on-year. How do the number of sets released in 1955 compare to the number of sets released in 2019? "
   ]
  },
  {
   "cell_type": "code",
   "metadata": {
    "scrolled": true,
    "id": "qjdrktZAIqus",
    "colab_type": "code",
    "colab": {}
   },
   "source": [
    "sets_per_year = lego_sets_df.groupby('year').count()\n",
    "sets_per_year['set_num'].head()"
   ],
   "execution_count": 28,
   "outputs": [
    {
     "data": {
      "text/plain": "year\n1949     5\n1950     6\n1953     4\n1954    14\n1955    28\nName: set_num, dtype: int64"
     },
     "execution_count": 28,
     "metadata": {},
     "output_type": "execute_result"
    }
   ]
  },
  {
   "cell_type": "code",
   "metadata": {
    "id": "tFInsHOkIqut",
    "colab_type": "code",
    "colab": {}
   },
   "source": [
    "sets_per_year['set_num'].tail()"
   ],
   "execution_count": 29,
   "outputs": [
    {
     "data": {
      "text/plain": "year\n2017    786\n2018    816\n2019    840\n2020    674\n2021      3\nName: set_num, dtype: int64"
     },
     "execution_count": 29,
     "metadata": {},
     "output_type": "execute_result"
    }
   ]
  },
  {
   "cell_type": "markdown",
   "metadata": {
    "id": "xJrmIOULIquv",
    "colab_type": "text"
   },
   "source": [
    "**Challenge**: Show the number of LEGO releases on a line chart using Matplotlib. <br>\n",
    "<br>\n",
    "Note that the .csv file is from late 2020, so to plot the full calendar years, you will have to exclude some data from your chart. Can you use the slicing techniques covered in Day 21 to avoid plotting the last two years? The same syntax will work on Pandas DataFrames. "
   ]
  },
  {
   "cell_type": "code",
   "metadata": {
    "id": "Nckj4lSGIquw",
    "colab_type": "code",
    "colab": {}
   },
   "source": [
    "plt.plot(sets_per_year.index[:-2], sets_per_year.set_num[:-2])"
   ],
   "execution_count": 34,
   "outputs": [
    {
     "data": {
      "text/plain": "[<matplotlib.lines.Line2D at 0x15748f9a0>]"
     },
     "execution_count": 34,
     "metadata": {},
     "output_type": "execute_result"
    },
    {
     "data": {
      "text/plain": "<Figure size 432x288 with 1 Axes>",
      "image/png": "[encoded data removed]"
     },
     "metadata": {
      "needs_background": "light"
     },
     "output_type": "display_data"
    }
   ]
  },
  {
   "cell_type": "code",
   "metadata": {
    "id": "_ZqAN-5MIquz",
    "colab_type": "code",
    "colab": {}
   },
   "source": [
    "plt.plot(sets_per_year.index[45:-2], sets_per_year.set_num[45:-2])"
   ],
   "execution_count": 36,
   "outputs": [
    {
     "data": {
      "text/plain": "[<matplotlib.lines.Line2D at 0x157506310>]"
     },
     "execution_count": 36,
     "metadata": {},
     "output_type": "execute_result"
    },
    {
     "data": {
      "text/plain": "<Figure size 432x288 with 1 Axes>",
      "image/png": "[encoded data removed]"
     },
     "metadata": {
      "needs_background": "light"
     },
     "output_type": "display_data"
    }
   ]
  },
  {
   "cell_type": "markdown",
   "metadata": {
    "id": "xrDeNYYXIqu1",
    "colab_type": "text"
   },
   "source": [
    "### Aggregate Data with the Python .agg() Function\n",
    "\n",
    "Let's work out the number of different themes shipped by year. This means we have to count the number of unique theme_ids per calendar year."
   ]
  },
  {
   "cell_type": "code",
   "metadata": {
    "dc": {
     "key": "266a3f390c"
    },
    "tags": [
     "sample_code"
    ],
    "id": "qx8pTau4Iqu2",
    "colab_type": "code",
    "colab": {}
   },
   "source": [
    "themes_per_year = lego_sets_df.groupby('year').agg({'theme_id': pd.Series.nunique})\n",
    "\n",
    "themes_per_year.head()"
   ],
   "execution_count": 43,
   "outputs": [
    {
     "data": {
      "text/plain": "      theme_id\nyear          \n1949         2\n1950         1\n1953         2\n1954         2\n1955         4",
      "text/html": "<div>\n<style scoped>\n    .dataframe tbody tr th:only-of-type {\n        vertical-align: middle;\n    }\n\n    .dataframe tbody tr th {\n        vertical-align: top;\n    }\n\n    .dataframe thead th {\n        text-align: right;\n    }\n</style>\n<table border=\"1\" class=\"dataframe\">\n  <thead>\n    <tr style=\"text-align: right;\">\n      <th></th>\n      <th>theme_id</th>\n    </tr>\n    <tr>\n      <th>year</th>\n      <th></th>\n    </tr>\n  </thead>\n  <tbody>\n    <tr>\n      <th>1949</th>\n      <td>2</td>\n    </tr>\n    <tr>\n      <th>1950</th>\n      <td>1</td>\n    </tr>\n    <tr>\n      <th>1953</th>\n      <td>2</td>\n    </tr>\n    <tr>\n      <th>1954</th>\n      <td>2</td>\n    </tr>\n    <tr>\n      <th>1955</th>\n      <td>4</td>\n    </tr>\n  </tbody>\n</table>\n</div>"
     },
     "execution_count": 43,
     "metadata": {},
     "output_type": "execute_result"
    }
   ]
  },
  {
   "cell_type": "code",
   "metadata": {
    "id": "BqF1o997Iqu3",
    "colab_type": "code",
    "colab": {}
   },
   "source": [
    "themes_per_year.rename(columns = {'theme_id': 'nr_themes'}, inplace=True)\n",
    "themes_per_year.head()"
   ],
   "execution_count": 44,
   "outputs": [
    {
     "data": {
      "text/plain": "      nr_themes\nyear           \n1949          2\n1950          1\n1953          2\n1954          2\n1955          4",
      "text/html": "<div>\n<style scoped>\n    .dataframe tbody tr th:only-of-type {\n        vertical-align: middle;\n    }\n\n    .dataframe tbody tr th {\n        vertical-align: top;\n    }\n\n    .dataframe thead th {\n        text-align: right;\n    }\n</style>\n<table border=\"1\" class=\"dataframe\">\n  <thead>\n    <tr style=\"text-align: right;\">\n      <th></th>\n      <th>nr_themes</th>\n    </tr>\n    <tr>\n      <th>year</th>\n      <th></th>\n    </tr>\n  </thead>\n  <tbody>\n    <tr>\n      <th>1949</th>\n      <td>2</td>\n    </tr>\n    <tr>\n      <th>1950</th>\n      <td>1</td>\n    </tr>\n    <tr>\n      <th>1953</th>\n      <td>2</td>\n    </tr>\n    <tr>\n      <th>1954</th>\n      <td>2</td>\n    </tr>\n    <tr>\n      <th>1955</th>\n      <td>4</td>\n    </tr>\n  </tbody>\n</table>\n</div>"
     },
     "execution_count": 44,
     "metadata": {},
     "output_type": "execute_result"
    }
   ]
  },
  {
   "cell_type": "markdown",
   "metadata": {
    "id": "immCqqw1Iqu5",
    "colab_type": "text"
   },
   "source": [
    "**Challenge**: Plot the number of themes released by year on a line chart. Only include the full calendar years (i.e., exclude 2020 and 2021). "
   ]
  },
  {
   "cell_type": "code",
   "metadata": {
    "id": "r2pamQEkIqu5",
    "colab_type": "code",
    "colab": {}
   },
   "source": [
    "plt.plot(themes_per_year.index[:-2], themes_per_year.nr_themes[:-2])"
   ],
   "execution_count": 45,
   "outputs": [
    {
     "data": {
      "text/plain": "[<matplotlib.lines.Line2D at 0x157c6b610>]"
     },
     "execution_count": 45,
     "metadata": {},
     "output_type": "execute_result"
    },
    {
     "data": {
      "text/plain": "<Figure size 432x288 with 1 Axes>",
      "image/png": "[encoded data removed]"
     },
     "metadata": {
      "needs_background": "light"
     },
     "output_type": "display_data"
    }
   ]
  },
  {
   "cell_type": "markdown",
   "metadata": {
    "id": "uBbt9-lJIqu7",
    "colab_type": "text"
   },
   "source": [
    "### Line Charts with Two Separate Axes"
   ]
  },
  {
   "cell_type": "code",
   "metadata": {
    "id": "j7lQ_amFIqu7",
    "colab_type": "code",
    "colab": {}
   },
   "source": [
    "ax1 = plt.gca() # get the axis\n",
    "ax2 = ax1.twinx() # create another axis that shares the same x-axis\n",
    "ax1.plot(sets_per_year.index[:-2], sets_per_year.set_num[:-2], color='g')\n",
    "ax2.plot (themes_per_year.index[:-2], themes_per_year.nr_themes[:-2], color='b')\n",
    "\n",
    "ax1.set_xlabel('Year')\n",
    "ax1.set_ylabel('Number of Sets', color='green')\n",
    "ax2.set_ylabel('Number of Themes', color='blue')"
   ],
   "execution_count": 53,
   "outputs": [
    {
     "data": {
      "text/plain": "Text(0, 0.5, 'Number of Themes')"
     },
     "execution_count": 53,
     "metadata": {},
     "output_type": "execute_result"
    },
    {
     "data": {
      "text/plain": "<Figure size 432x288 with 2 Axes>",
      "image/png": "[encoded data removed]"
     },
     "metadata": {
      "needs_background": "light"
     },
     "output_type": "display_data"
    }
   ]
  },
  {
   "cell_type": "markdown",
   "metadata": {
    "id": "7BHYaUf-Iqu9",
    "colab_type": "text"
   },
   "source": [
    "**Challenge**: Use the <code>.groupby()</code> and <code>.agg()</code> function together to figure out the average number of parts per set. How many parts did the average LEGO set released in 1954 compared to say, 2017?"
   ]
  },
  {
   "cell_type": "code",
   "metadata": {
    "id": "W7BcH9vuIqu9",
    "colab_type": "code",
    "colab": {}
   },
   "source": [
    "parts_per_set = lego_sets_df.groupby('year').agg({'num_parts':pd.Series.mean})\n",
    "parts_per_set.head()"
   ],
   "execution_count": 55,
   "outputs": [
    {
     "data": {
      "text/plain": "      num_parts\nyear           \n1949  99.600000\n1950   1.000000\n1953  13.500000\n1954  12.357143\n1955  36.607143",
      "text/html": "<div>\n<style scoped>\n    .dataframe tbody tr th:only-of-type {\n        vertical-align: middle;\n    }\n\n    .dataframe tbody tr th {\n        vertical-align: top;\n    }\n\n    .dataframe thead th {\n        text-align: right;\n    }\n</style>\n<table border=\"1\" class=\"dataframe\">\n  <thead>\n    <tr style=\"text-align: right;\">\n      <th></th>\n      <th>num_parts</th>\n    </tr>\n    <tr>\n      <th>year</th>\n      <th></th>\n    </tr>\n  </thead>\n  <tbody>\n    <tr>\n      <th>1949</th>\n      <td>99.600000</td>\n    </tr>\n    <tr>\n      <th>1950</th>\n      <td>1.000000</td>\n    </tr>\n    <tr>\n      <th>1953</th>\n      <td>13.500000</td>\n    </tr>\n    <tr>\n      <th>1954</th>\n      <td>12.357143</td>\n    </tr>\n    <tr>\n      <th>1955</th>\n      <td>36.607143</td>\n    </tr>\n  </tbody>\n</table>\n</div>"
     },
     "execution_count": 55,
     "metadata": {},
     "output_type": "execute_result"
    }
   ]
  },
  {
   "cell_type": "markdown",
   "metadata": {
    "id": "bAeTe2XqIqvB",
    "colab_type": "text"
   },
   "source": []
  },
  {
   "cell_type": "markdown",
   "metadata": {
    "id": "SAViZ_TYIqvB",
    "colab_type": "text"
   },
   "source": [
    "**Challenge**: Has the size and complexity of LEGO sets increased over time based on the number of parts? Plot the average number of parts over time using a Matplotlib scatter plot. See if you can use the [scatter plot documentation](https://matplotlib.org/3.1.0/api/_as_gen/matplotlib.pyplot.scatter.html) before I show you the solution. Do you spot a trend in the chart? "
   ]
  },
  {
   "cell_type": "code",
   "metadata": {
    "id": "EQNZ0D7JIqvB",
    "colab_type": "code",
    "colab": {}
   },
   "source": [
    "plt.scatter(x=parts_per_set.index[:-2], y=parts_per_set.num_parts[:-2])"
   ],
   "execution_count": 56,
   "outputs": [
    {
     "data": {
      "text/plain": "<matplotlib.collections.PathCollection at 0x160113550>"
     },
     "execution_count": 56,
     "metadata": {},
     "output_type": "execute_result"
    },
    {
     "data": {
      "text/plain": "<Figure size 432x288 with 1 Axes>",
      "image/png": "[encoded data removed]"
     },
     "metadata": {
      "needs_background": "light"
     },
     "output_type": "display_data"
    }
   ]
  },
  {
   "cell_type": "markdown",
   "metadata": {
    "id": "xK226Ip-IqvE",
    "colab_type": "text"
   },
   "source": [
    "### Number of Sets per LEGO Theme"
   ]
  },
  {
   "cell_type": "markdown",
   "metadata": {
    "id": "VKHa1FePIqvE",
    "colab_type": "text"
   },
   "source": [
    "LEGO has licensed many hit franchises from Harry Potter to Marvel Super Heros to many others. But which theme has the largest number of individual sets? "
   ]
  },
  {
   "cell_type": "code",
   "metadata": {
    "id": "hOBcNrC9IqvE",
    "colab_type": "code",
    "colab": {}
   },
   "source": [
    "set_theme_count = lego_sets_df[\"theme_id\"]. value_counts()\n",
    "set_theme_count[:5]"
   ],
   "execution_count": 58,
   "outputs": [
    {
     "data": {
      "text/plain": "158    753\n501    656\n494    398\n435    356\n503    329\nName: theme_id, dtype: int64"
     },
     "execution_count": 58,
     "metadata": {},
     "output_type": "execute_result"
    }
   ]
  },
  {
   "cell_type": "markdown",
   "metadata": {
    "id": "J-i6JULGIqvG",
    "colab_type": "text"
   },
   "source": [
    "**Challenge** Use what you know about HTML markup and tags to display the database schema: https://i.imgur.com/Sg4lcjx.png\n",
    "<img src=\"https://i.imgur.com/Sg4lcjx.png\">"
   ]
  },
  {
   "cell_type": "markdown",
   "metadata": {
    "id": "27oDwiPHIqvH",
    "colab_type": "text"
   },
   "source": []
  },
  {
   "cell_type": "markdown",
   "metadata": {
    "id": "J_0iuerKIqvG",
    "colab_type": "text"
   },
   "source": [
    "### Database Schemas, Foreign Keys and Merging DataFrames\n",
    "\n",
    "The themes.csv file has the actual theme names. The sets .csv has <code>theme_ids</code> which link to the <code>id</code> column in the themes.csv. "
   ]
  },
  {
   "cell_type": "markdown",
   "metadata": {
    "id": "cp1tMW6oIqvH",
    "colab_type": "text"
   },
   "source": [
    "**Challenge**: Explore the themes.csv. How is it structured? Search for the name 'Star Wars'. How many <code>id</code>s correspond to this name in the themes.csv? Now use these <code>id</code>s and find the corresponding the sets in the sets.csv (Hint: you'll need to look for matches in the <code>theme_id</code> column)"
   ]
  },
  {
   "cell_type": "code",
   "metadata": {
    "id": "3uN3wN5sIqvH",
    "colab_type": "code",
    "colab": {}
   },
   "source": [
    "lego_themes_df = pd.read_csv('data/themes.csv')\n",
    "lego_themes_df.head()"
   ],
   "execution_count": 59,
   "outputs": [
    {
     "data": {
      "text/plain": "   id            name  parent_id\n0   1         Technic        NaN\n1   2  Arctic Technic        1.0\n2   3     Competition        1.0\n3   4  Expert Builder        1.0\n4   5           Model        1.0",
      "text/html": "<div>\n<style scoped>\n    .dataframe tbody tr th:only-of-type {\n        vertical-align: middle;\n    }\n\n    .dataframe tbody tr th {\n        vertical-align: top;\n    }\n\n    .dataframe thead th {\n        text-align: right;\n    }\n</style>\n<table border=\"1\" class=\"dataframe\">\n  <thead>\n    <tr style=\"text-align: right;\">\n      <th></th>\n      <th>id</th>\n      <th>name</th>\n      <th>parent_id</th>\n    </tr>\n  </thead>\n  <tbody>\n    <tr>\n      <th>0</th>\n      <td>1</td>\n      <td>Technic</td>\n      <td>NaN</td>\n    </tr>\n    <tr>\n      <th>1</th>\n      <td>2</td>\n      <td>Arctic Technic</td>\n      <td>1.0</td>\n    </tr>\n    <tr>\n      <th>2</th>\n      <td>3</td>\n      <td>Competition</td>\n      <td>1.0</td>\n    </tr>\n    <tr>\n      <th>3</th>\n      <td>4</td>\n      <td>Expert Builder</td>\n      <td>1.0</td>\n    </tr>\n    <tr>\n      <th>4</th>\n      <td>5</td>\n      <td>Model</td>\n      <td>1.0</td>\n    </tr>\n  </tbody>\n</table>\n</div>"
     },
     "execution_count": 59,
     "metadata": {},
     "output_type": "execute_result"
    }
   ]
  },
  {
   "cell_type": "code",
   "metadata": {
    "id": "xAO2XlQGIqvJ",
    "colab_type": "code",
    "colab": {}
   },
   "source": [
    "lego_themes_df[lego_themes_df.name == 'Star Wars']"
   ],
   "execution_count": 60,
   "outputs": [
    {
     "data": {
      "text/plain": "      id       name  parent_id\n17    18  Star Wars        1.0\n150  158  Star Wars        NaN\n174  209  Star Wars      207.0\n211  261  Star Wars      258.0",
      "text/html": "<div>\n<style scoped>\n    .dataframe tbody tr th:only-of-type {\n        vertical-align: middle;\n    }\n\n    .dataframe tbody tr th {\n        vertical-align: top;\n    }\n\n    .dataframe thead th {\n        text-align: right;\n    }\n</style>\n<table border=\"1\" class=\"dataframe\">\n  <thead>\n    <tr style=\"text-align: right;\">\n      <th></th>\n      <th>id</th>\n      <th>name</th>\n      <th>parent_id</th>\n    </tr>\n  </thead>\n  <tbody>\n    <tr>\n      <th>17</th>\n      <td>18</td>\n      <td>Star Wars</td>\n      <td>1.0</td>\n    </tr>\n    <tr>\n      <th>150</th>\n      <td>158</td>\n      <td>Star Wars</td>\n      <td>NaN</td>\n    </tr>\n    <tr>\n      <th>174</th>\n      <td>209</td>\n      <td>Star Wars</td>\n      <td>207.0</td>\n    </tr>\n    <tr>\n      <th>211</th>\n      <td>261</td>\n      <td>Star Wars</td>\n      <td>258.0</td>\n    </tr>\n  </tbody>\n</table>\n</div>"
     },
     "execution_count": 60,
     "metadata": {},
     "output_type": "execute_result"
    }
   ]
  },
  {
   "cell_type": "code",
   "metadata": {
    "id": "xYEDlY-_IqvL",
    "colab_type": "code",
    "colab": {}
   },
   "source": [
    "lego_sets_df[lego_sets_df == 18].head()"
   ],
   "execution_count": 62,
   "outputs": [
    {
     "data": {
      "text/plain": "  set_num name  year  theme_id  num_parts\n0     NaN  NaN   NaN       NaN        NaN\n1     NaN  NaN   NaN       NaN        NaN\n2     NaN  NaN   NaN       NaN        NaN\n3     NaN  NaN   NaN       NaN        NaN\n4     NaN  NaN   NaN       NaN        NaN",
      "text/html": "<div>\n<style scoped>\n    .dataframe tbody tr th:only-of-type {\n        vertical-align: middle;\n    }\n\n    .dataframe tbody tr th {\n        vertical-align: top;\n    }\n\n    .dataframe thead th {\n        text-align: right;\n    }\n</style>\n<table border=\"1\" class=\"dataframe\">\n  <thead>\n    <tr style=\"text-align: right;\">\n      <th></th>\n      <th>set_num</th>\n      <th>name</th>\n      <th>year</th>\n      <th>theme_id</th>\n      <th>num_parts</th>\n    </tr>\n  </thead>\n  <tbody>\n    <tr>\n      <th>0</th>\n      <td>NaN</td>\n      <td>NaN</td>\n      <td>NaN</td>\n      <td>NaN</td>\n      <td>NaN</td>\n    </tr>\n    <tr>\n      <th>1</th>\n      <td>NaN</td>\n      <td>NaN</td>\n      <td>NaN</td>\n      <td>NaN</td>\n      <td>NaN</td>\n    </tr>\n    <tr>\n      <th>2</th>\n      <td>NaN</td>\n      <td>NaN</td>\n      <td>NaN</td>\n      <td>NaN</td>\n      <td>NaN</td>\n    </tr>\n    <tr>\n      <th>3</th>\n      <td>NaN</td>\n      <td>NaN</td>\n      <td>NaN</td>\n      <td>NaN</td>\n      <td>NaN</td>\n    </tr>\n    <tr>\n      <th>4</th>\n      <td>NaN</td>\n      <td>NaN</td>\n      <td>NaN</td>\n      <td>NaN</td>\n      <td>NaN</td>\n    </tr>\n  </tbody>\n</table>\n</div>"
     },
     "execution_count": 62,
     "metadata": {},
     "output_type": "execute_result"
    }
   ]
  },
  {
   "cell_type": "code",
   "metadata": {
    "scrolled": true,
    "id": "qBhckawNIqvN",
    "colab_type": "code",
    "colab": {}
   },
   "source": [
    "lego_sets_df[lego_sets_df == 209].head()"
   ],
   "execution_count": 63,
   "outputs": [
    {
     "data": {
      "text/plain": "  set_num name  year  theme_id  num_parts\n0     NaN  NaN   NaN       NaN        NaN\n1     NaN  NaN   NaN       NaN        NaN\n2     NaN  NaN   NaN       NaN        NaN\n3     NaN  NaN   NaN       NaN        NaN\n4     NaN  NaN   NaN       NaN        NaN",
      "text/html": "<div>\n<style scoped>\n    .dataframe tbody tr th:only-of-type {\n        vertical-align: middle;\n    }\n\n    .dataframe tbody tr th {\n        vertical-align: top;\n    }\n\n    .dataframe thead th {\n        text-align: right;\n    }\n</style>\n<table border=\"1\" class=\"dataframe\">\n  <thead>\n    <tr style=\"text-align: right;\">\n      <th></th>\n      <th>set_num</th>\n      <th>name</th>\n      <th>year</th>\n      <th>theme_id</th>\n      <th>num_parts</th>\n    </tr>\n  </thead>\n  <tbody>\n    <tr>\n      <th>0</th>\n      <td>NaN</td>\n      <td>NaN</td>\n      <td>NaN</td>\n      <td>NaN</td>\n      <td>NaN</td>\n    </tr>\n    <tr>\n      <th>1</th>\n      <td>NaN</td>\n      <td>NaN</td>\n      <td>NaN</td>\n      <td>NaN</td>\n      <td>NaN</td>\n    </tr>\n    <tr>\n      <th>2</th>\n      <td>NaN</td>\n      <td>NaN</td>\n      <td>NaN</td>\n      <td>NaN</td>\n      <td>NaN</td>\n    </tr>\n    <tr>\n      <th>3</th>\n      <td>NaN</td>\n      <td>NaN</td>\n      <td>NaN</td>\n      <td>NaN</td>\n      <td>NaN</td>\n    </tr>\n    <tr>\n      <th>4</th>\n      <td>NaN</td>\n      <td>NaN</td>\n      <td>NaN</td>\n      <td>NaN</td>\n      <td>NaN</td>\n    </tr>\n  </tbody>\n</table>\n</div>"
     },
     "execution_count": 63,
     "metadata": {},
     "output_type": "execute_result"
    }
   ]
  },
  {
   "cell_type": "markdown",
   "metadata": {
    "id": "SmTCXWKKIqvQ",
    "colab_type": "text"
   },
   "source": [
    "### Merging (i.e., Combining) DataFrames based on a Key\n"
   ]
  },
  {
   "cell_type": "code",
   "metadata": {
    "id": "esKQULhcIqvR",
    "colab_type": "code",
    "colab": {}
   },
   "source": [
    "set_theme_count = pd.DataFrame({'id':set_theme_count.index,\n",
    "                                'set_count':set_theme_count.values})\n",
    "set_theme_count.head()"
   ],
   "execution_count": 64,
   "outputs": [
    {
     "data": {
      "text/plain": "    id  set_count\n0  158        753\n1  501        656\n2  494        398\n3  435        356\n4  503        329",
      "text/html": "<div>\n<style scoped>\n    .dataframe tbody tr th:only-of-type {\n        vertical-align: middle;\n    }\n\n    .dataframe tbody tr th {\n        vertical-align: top;\n    }\n\n    .dataframe thead th {\n        text-align: right;\n    }\n</style>\n<table border=\"1\" class=\"dataframe\">\n  <thead>\n    <tr style=\"text-align: right;\">\n      <th></th>\n      <th>id</th>\n      <th>set_count</th>\n    </tr>\n  </thead>\n  <tbody>\n    <tr>\n      <th>0</th>\n      <td>158</td>\n      <td>753</td>\n    </tr>\n    <tr>\n      <th>1</th>\n      <td>501</td>\n      <td>656</td>\n    </tr>\n    <tr>\n      <th>2</th>\n      <td>494</td>\n      <td>398</td>\n    </tr>\n    <tr>\n      <th>3</th>\n      <td>435</td>\n      <td>356</td>\n    </tr>\n    <tr>\n      <th>4</th>\n      <td>503</td>\n      <td>329</td>\n    </tr>\n  </tbody>\n</table>\n</div>"
     },
     "execution_count": 64,
     "metadata": {},
     "output_type": "execute_result"
    }
   ]
  },
  {
   "cell_type": "code",
   "metadata": {
    "id": "i0LobgIvIqvT",
    "colab_type": "code",
    "colab": {}
   },
   "source": [
    "merged_df = pd.merge(set_theme_count, lego_themes_df, on='id')\n",
    "merged_df[:3]"
   ],
   "execution_count": 65,
   "outputs": [
    {
     "data": {
      "text/plain": "    id  set_count       name  parent_id\n0  158        753  Star Wars        NaN\n1  501        656       Gear        NaN\n2  494        398    Friends        NaN",
      "text/html": "<div>\n<style scoped>\n    .dataframe tbody tr th:only-of-type {\n        vertical-align: middle;\n    }\n\n    .dataframe tbody tr th {\n        vertical-align: top;\n    }\n\n    .dataframe thead th {\n        text-align: right;\n    }\n</style>\n<table border=\"1\" class=\"dataframe\">\n  <thead>\n    <tr style=\"text-align: right;\">\n      <th></th>\n      <th>id</th>\n      <th>set_count</th>\n      <th>name</th>\n      <th>parent_id</th>\n    </tr>\n  </thead>\n  <tbody>\n    <tr>\n      <th>0</th>\n      <td>158</td>\n      <td>753</td>\n      <td>Star Wars</td>\n      <td>NaN</td>\n    </tr>\n    <tr>\n      <th>1</th>\n      <td>501</td>\n      <td>656</td>\n      <td>Gear</td>\n      <td>NaN</td>\n    </tr>\n    <tr>\n      <th>2</th>\n      <td>494</td>\n      <td>398</td>\n      <td>Friends</td>\n      <td>NaN</td>\n    </tr>\n  </tbody>\n</table>\n</div>"
     },
     "execution_count": 65,
     "metadata": {},
     "output_type": "execute_result"
    }
   ]
  },
  {
   "cell_type": "code",
   "metadata": {
    "id": "I7UMP7VXIqvU",
    "colab_type": "code",
    "colab": {}
   },
   "source": [
    "plt.figure(figsize=(14,8))\n",
    "plt.xticks(fontsize=14, rotation=45)\n",
    "plt.yticks(fontsize=14)\n",
    "plt.ylabel('Nr of Sets', fontsize=14)\n",
    "plt.xlabel('Theme Name', fontsize=14)\n",
    "\n",
    "plt.bar(merged_df.name[:10], merged_df.set_count[:10])"
   ],
   "execution_count": 66,
   "outputs": [
    {
     "data": {
      "text/plain": "<BarContainer object of 10 artists>"
     },
     "execution_count": 66,
     "metadata": {},
     "output_type": "execute_result"
    },
    {
     "data": {
      "text/plain": "<Figure size 1008x576 with 1 Axes>",
      "image/png": "[encoded data removed]"
     },
     "metadata": {
      "needs_background": "light"
     },
     "output_type": "display_data"
    }
   ]
  }
 ]
}